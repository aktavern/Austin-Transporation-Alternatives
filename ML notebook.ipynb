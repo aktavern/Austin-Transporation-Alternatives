{
 "cells": [
  {
   "cell_type": "markdown",
   "metadata": {},
   "source": [
    "#  Introduction and Summary\n",
    "This notebook uses a variety of Machine Learning models on data about shared micromobility services in Austin, Texas. In this case, micromobility refers to both scooters and bicycles which can be rented and dropped off at dockless locations. The data can be found <a href=\"https://data.austintexas.gov/Transportation-and-Mobility/Shared-Micromobility-Vehicle-Trips/7d8e-dm7r\">here</a>.\n",
    "\n",
    "Initial analysis of the data shows:\n",
    "1. Usage can vary regardless of time, but tends to be highest in the afternoons, such as between 3pm - 5pm. \n",
    "2. Usage continues to vary regardless of month, but tends to be highest in March and August. This can be tied to SXSW in March and the beginning of the school year for UT Austin in August. \n",
    "3. Rain does not seem to impact usage of micromobility services. \n",
    "4. Typical linear regression models don't work well with this data, but a Decision Tree Classifier may be the best fit. "
   ]
  },
  {
   "cell_type": "markdown",
   "metadata": {},
   "source": [
    "# Load Libraries and Data \n",
    "We'll import other libraries as we use them throughout the notebook."
   ]
  },
  {
   "cell_type": "code",
   "execution_count": 1,
   "metadata": {},
   "outputs": [],
   "source": [
    "# Import Dependencies\n",
    "import pandas as pd\n",
    "import matplotlib.pyplot as plt\n",
    "import sklearn\n",
    "import numpy as np\n",
    "import statsmodels.api as sm\n",
    "import seaborn as sns"
   ]
  },
  {
   "cell_type": "code",
   "execution_count": 2,
   "metadata": {},
   "outputs": [],
   "source": [
    "# Import data, drop unnecessary columns, and update data types\n",
    "all_vehicles = pd.read_csv(\"data/all_summary.csv\")\n",
    "all_vehicles = all_vehicles.drop('Unnamed: 0', axis=1)"
   ]
  },
  {
   "cell_type": "code",
   "execution_count": 3,
   "metadata": {},
   "outputs": [
    {
     "data": {
      "text/html": [
       "<div>\n",
       "<style scoped>\n",
       "    .dataframe tbody tr th:only-of-type {\n",
       "        vertical-align: middle;\n",
       "    }\n",
       "\n",
       "    .dataframe tbody tr th {\n",
       "        vertical-align: top;\n",
       "    }\n",
       "\n",
       "    .dataframe thead th {\n",
       "        text-align: right;\n",
       "    }\n",
       "</style>\n",
       "<table border=\"1\" class=\"dataframe\">\n",
       "  <thead>\n",
       "    <tr style=\"text-align: right;\">\n",
       "      <th></th>\n",
       "      <th>month</th>\n",
       "      <th>hour</th>\n",
       "      <th>year</th>\n",
       "      <th>day</th>\n",
       "      <th>count</th>\n",
       "      <th>date</th>\n",
       "      <th>maxtemp</th>\n",
       "      <th>atemp</th>\n",
       "      <th>mintemp</th>\n",
       "      <th>maxhum</th>\n",
       "      <th>ahum</th>\n",
       "      <th>minhum</th>\n",
       "      <th>maxwind</th>\n",
       "      <th>awind</th>\n",
       "      <th>minwind</th>\n",
       "      <th>prec</th>\n",
       "      <th>day_of_week</th>\n",
       "      <th>vehicle_type</th>\n",
       "      <th>vehicle_encoded</th>\n",
       "    </tr>\n",
       "  </thead>\n",
       "  <tbody>\n",
       "    <tr>\n",
       "      <th>0</th>\n",
       "      <td>1</td>\n",
       "      <td>0</td>\n",
       "      <td>2019</td>\n",
       "      <td>1</td>\n",
       "      <td>342</td>\n",
       "      <td>2019-01-01</td>\n",
       "      <td>46</td>\n",
       "      <td>41</td>\n",
       "      <td>36</td>\n",
       "      <td>97</td>\n",
       "      <td>83</td>\n",
       "      <td>76</td>\n",
       "      <td>21</td>\n",
       "      <td>11</td>\n",
       "      <td>0</td>\n",
       "      <td>0</td>\n",
       "      <td>1</td>\n",
       "      <td>scooter</td>\n",
       "      <td>0</td>\n",
       "    </tr>\n",
       "    <tr>\n",
       "      <th>1</th>\n",
       "      <td>1</td>\n",
       "      <td>0</td>\n",
       "      <td>2019</td>\n",
       "      <td>2</td>\n",
       "      <td>79</td>\n",
       "      <td>2019-01-02</td>\n",
       "      <td>41</td>\n",
       "      <td>38</td>\n",
       "      <td>37</td>\n",
       "      <td>97</td>\n",
       "      <td>92</td>\n",
       "      <td>79</td>\n",
       "      <td>15</td>\n",
       "      <td>10</td>\n",
       "      <td>8</td>\n",
       "      <td>1</td>\n",
       "      <td>2</td>\n",
       "      <td>scooter</td>\n",
       "      <td>0</td>\n",
       "    </tr>\n",
       "    <tr>\n",
       "      <th>2</th>\n",
       "      <td>1</td>\n",
       "      <td>0</td>\n",
       "      <td>2019</td>\n",
       "      <td>3</td>\n",
       "      <td>16</td>\n",
       "      <td>2019-01-03</td>\n",
       "      <td>52</td>\n",
       "      <td>40</td>\n",
       "      <td>31</td>\n",
       "      <td>97</td>\n",
       "      <td>85</td>\n",
       "      <td>53</td>\n",
       "      <td>13</td>\n",
       "      <td>7</td>\n",
       "      <td>0</td>\n",
       "      <td>1</td>\n",
       "      <td>3</td>\n",
       "      <td>scooter</td>\n",
       "      <td>0</td>\n",
       "    </tr>\n",
       "    <tr>\n",
       "      <th>3</th>\n",
       "      <td>1</td>\n",
       "      <td>0</td>\n",
       "      <td>2019</td>\n",
       "      <td>4</td>\n",
       "      <td>82</td>\n",
       "      <td>2019-01-04</td>\n",
       "      <td>67</td>\n",
       "      <td>46</td>\n",
       "      <td>30</td>\n",
       "      <td>96</td>\n",
       "      <td>66</td>\n",
       "      <td>31</td>\n",
       "      <td>10</td>\n",
       "      <td>3</td>\n",
       "      <td>0</td>\n",
       "      <td>1</td>\n",
       "      <td>4</td>\n",
       "      <td>scooter</td>\n",
       "      <td>0</td>\n",
       "    </tr>\n",
       "    <tr>\n",
       "      <th>4</th>\n",
       "      <td>1</td>\n",
       "      <td>0</td>\n",
       "      <td>2019</td>\n",
       "      <td>5</td>\n",
       "      <td>188</td>\n",
       "      <td>2019-01-05</td>\n",
       "      <td>73</td>\n",
       "      <td>49</td>\n",
       "      <td>32</td>\n",
       "      <td>93</td>\n",
       "      <td>66</td>\n",
       "      <td>24</td>\n",
       "      <td>13</td>\n",
       "      <td>4</td>\n",
       "      <td>0</td>\n",
       "      <td>0</td>\n",
       "      <td>5</td>\n",
       "      <td>scooter</td>\n",
       "      <td>0</td>\n",
       "    </tr>\n",
       "  </tbody>\n",
       "</table>\n",
       "</div>"
      ],
      "text/plain": [
       "   month  hour  year  day  count        date  maxtemp  atemp  mintemp  maxhum  \\\n",
       "0      1     0  2019    1    342  2019-01-01       46     41       36      97   \n",
       "1      1     0  2019    2     79  2019-01-02       41     38       37      97   \n",
       "2      1     0  2019    3     16  2019-01-03       52     40       31      97   \n",
       "3      1     0  2019    4     82  2019-01-04       67     46       30      96   \n",
       "4      1     0  2019    5    188  2019-01-05       73     49       32      93   \n",
       "\n",
       "   ahum  minhum  maxwind  awind  minwind  prec  day_of_week vehicle_type  \\\n",
       "0    83      76       21     11        0     0            1      scooter   \n",
       "1    92      79       15     10        8     1            2      scooter   \n",
       "2    85      53       13      7        0     1            3      scooter   \n",
       "3    66      31       10      3        0     1            4      scooter   \n",
       "4    66      24       13      4        0     0            5      scooter   \n",
       "\n",
       "   vehicle_encoded  \n",
       "0                0  \n",
       "1                0  \n",
       "2                0  \n",
       "3                0  \n",
       "4                0  "
      ]
     },
     "execution_count": 3,
     "metadata": {},
     "output_type": "execute_result"
    }
   ],
   "source": [
    "all_vehicles.head()"
   ]
  },
  {
   "cell_type": "markdown",
   "metadata": {},
   "source": [
    "# Exploratory Data Analysis\n",
    "\n",
    "<b>Analysis</b>\n",
    "1. Demand can be higher or lower regardless of hour. For example, hour 15 has points at both ~3000 and 0. Therefore, we should expect demand by hour to be highly variable. \n",
    "2. Usage can be highest in the months of March and August. This ties to SXSW and the beginning of the school year for UT Austin, where many bikes and scooters are located. \n",
    "3. Usage doesn't seem to be impacted by average temperate, humidity, wind, or precipitation. "
   ]
  },
  {
   "cell_type": "code",
   "execution_count": 4,
   "metadata": {},
   "outputs": [],
   "source": [
    "# Make sure data is cleaned up before plotting\n",
    "all_vehicles = all_vehicles.dropna()"
   ]
  },
  {
   "cell_type": "code",
   "execution_count": 5,
   "metadata": {},
   "outputs": [],
   "source": [
    "all_vehicles['maxtemp'] = all_vehicles['maxtemp'].astype('int')\n",
    "all_vehicles['atemp'] = all_vehicles['atemp'].astype('int')\n",
    "all_vehicles['mintemp'] = all_vehicles['mintemp'].astype('int')\n",
    "all_vehicles['maxhum'] = all_vehicles['maxhum'].astype('int')\n",
    "all_vehicles['ahum'] = all_vehicles['ahum'].astype('int')\n",
    "all_vehicles['minhum'] = all_vehicles['minhum'].astype('int')\n",
    "all_vehicles['maxwind'] = all_vehicles['maxwind'].astype('int')\n",
    "all_vehicles['awind'] = all_vehicles['awind'].astype('int')\n",
    "all_vehicles['minwind'] = all_vehicles['minwind'].astype('int')\n",
    "all_vehicles['prec'] = all_vehicles['prec'].astype('int')\n",
    "all_vehicles['day_of_week'] = all_vehicles['day_of_week'].astype('int')"
   ]
  },
  {
   "cell_type": "code",
   "execution_count": 6,
   "metadata": {},
   "outputs": [
    {
     "data": {
      "image/png": "[encoded data removed]",
      "text/plain": [
       "<Figure size 432x288 with 1 Axes>"
      ]
     },
     "metadata": {
      "needs_background": "light"
     },
     "output_type": "display_data"
    }
   ],
   "source": [
    "# Plot count against hours, months, and select weather variables\n",
    "plt.scatter(all_vehicles['hour'], all_vehicles['count'])\n",
    "plt.xlabel('Hour')\n",
    "plt.ylabel('Demand')\n",
    "plt.title('All Vehicle Demand By Hour')\n",
    "plt.savefig(\"static/demand_by_hour.png\")"
   ]
  },
  {
   "cell_type": "code",
   "execution_count": 7,
   "metadata": {},
   "outputs": [
    {
     "data": {
      "image/png": "[encoded data removed]",
      "text/plain": [
       "<Figure size 432x288 with 1 Axes>"
      ]
     },
     "metadata": {
      "needs_background": "light"
     },
     "output_type": "display_data"
    }
   ],
   "source": [
    "plt.scatter(all_vehicles['month'], all_vehicles['count'])\n",
    "plt.xlabel('Month')\n",
    "plt.ylabel('Demand')\n",
    "plt.title('All Vehicle Demand By Month')\n",
    "plt.savefig(\"static/demand_by_month.png\")"
   ]
  },
  {
   "cell_type": "code",
   "execution_count": 8,
   "metadata": {},
   "outputs": [
    {
     "data": {
      "image/png": "[encoded data removed]",
      "text/plain": [
       "<Figure size 432x288 with 1 Axes>"
      ]
     },
     "metadata": {
      "needs_background": "light"
     },
     "output_type": "display_data"
    }
   ],
   "source": [
    "plt.scatter(all_vehicles['atemp'], all_vehicles['count'])\n",
    "plt.xlabel('Average Temperature (F)')\n",
    "plt.ylabel('Demand')\n",
    "plt.title('All Vehicle Demand By Average Temperature')\n",
    "plt.savefig(\"static/avg_temp.png\")"
   ]
  },
  {
   "cell_type": "code",
   "execution_count": 9,
   "metadata": {},
   "outputs": [
    {
     "data": {
      "image/png": "[encoded data removed]",
      "text/plain": [
       "<Figure size 432x288 with 1 Axes>"
      ]
     },
     "metadata": {
      "needs_background": "light"
     },
     "output_type": "display_data"
    }
   ],
   "source": [
    "plt.scatter(all_vehicles['ahum'], all_vehicles['count'])\n",
    "plt.xlabel('Average Humidity (%)')\n",
    "plt.ylabel('Demand')\n",
    "plt.title('All Vehicle Demand By Average Humidity')\n",
    "plt.savefig(\"static/avg_hum.png\")"
   ]
  },
  {
   "cell_type": "code",
   "execution_count": 10,
   "metadata": {},
   "outputs": [
    {
     "data": {
      "image/png": "[encoded data removed]",
      "text/plain": [
       "<Figure size 432x288 with 1 Axes>"
      ]
     },
     "metadata": {
      "needs_background": "light"
     },
     "output_type": "display_data"
    }
   ],
   "source": [
    "plt.scatter(all_vehicles['awind'], all_vehicles['count'])\n",
    "plt.xlabel('Wind Speed (MPH)')\n",
    "plt.ylabel('Demand')\n",
    "plt.title('All Vehicle Demand By Wind Speed')\n",
    "plt.savefig(\"static/wind_speed.png\")"
   ]
  },
  {
   "cell_type": "code",
   "execution_count": 11,
   "metadata": {},
   "outputs": [
    {
     "data": {
      "image/png": "[encoded data removed]",
      "text/plain": [
       "<Figure size 432x288 with 1 Axes>"
      ]
     },
     "metadata": {
      "needs_background": "light"
     },
     "output_type": "display_data"
    }
   ],
   "source": [
    "plt.scatter(all_vehicles['prec'], all_vehicles['count'])\n",
    "plt.xlabel('Precipitation')\n",
    "plt.ylabel('Demand')\n",
    "plt.title('All Vehicle Demand By Precipitation')\n",
    "xticks = [0,1]\n",
    "ticklabels = ['No Prec', 'Prec']\n",
    "plt.xticks(xticks, ticklabels)\n",
    "plt.savefig(\"static/prec.png\")"
   ]
  },
  {
   "cell_type": "markdown",
   "metadata": {},
   "source": [
    "# Linear Regressions\n",
    "Now that the data is cleaned, we can try our first linear regression against the data to see which variables best predict the number of devices rented. \n",
    "\n",
    "Upon initial evaluation, the following variables seem to have a relationship with demand:\n",
    " * hour\n",
    " * average temperature \n",
    " * day of week\n",
    " * vehicle type (scooter vs bike)\n",
    " * month\n",
    " * average humidity \n",
    " \n",
    "However, the initial model doesn't work very well, with an adjusted R-squared of 0.549 and a testing score of 0.39. The plot also seems to indicate that there may not be a linear relationship at play with this data. "
   ]
  },
  {
   "cell_type": "code",
   "execution_count": 12,
   "metadata": {},
   "outputs": [],
   "source": [
    "# Use statsmodels to review regression results\n",
    "Y = all_vehicles['count']\n",
    "X = all_vehicles[['hour', 'atemp', 'day_of_week','vehicle_encoded','month','ahum']]"
   ]
  },
  {
   "cell_type": "code",
   "execution_count": 13,
   "metadata": {},
   "outputs": [],
   "source": [
    "model = sm.OLS(Y,X)\n",
    "results = model.fit()"
   ]
  },
  {
   "cell_type": "code",
   "execution_count": 14,
   "metadata": {},
   "outputs": [
    {
     "data": {
      "text/html": [
       "<table class=\"simpletable\">\n",
       "<caption>OLS Regression Results</caption>\n",
       "<tr>\n",
       "  <th>Dep. Variable:</th>          <td>count</td>      <th>  R-squared (uncentered):</th>       <td>   0.549</td>  \n",
       "</tr>\n",
       "<tr>\n",
       "  <th>Model:</th>                   <td>OLS</td>       <th>  Adj. R-squared (uncentered):</th>  <td>   0.549</td>  \n",
       "</tr>\n",
       "<tr>\n",
       "  <th>Method:</th>             <td>Least Squares</td>  <th>  F-statistic:       </th>           <td>   4685.</td>  \n",
       "</tr>\n",
       "<tr>\n",
       "  <th>Date:</th>             <td>Mon, 28 Oct 2019</td> <th>  Prob (F-statistic):</th>            <td>  0.00</td>   \n",
       "</tr>\n",
       "<tr>\n",
       "  <th>Time:</th>                 <td>21:11:21</td>     <th>  Log-Likelihood:    </th>          <td>-1.7003e+05</td>\n",
       "</tr>\n",
       "<tr>\n",
       "  <th>No. Observations:</th>      <td> 23128</td>      <th>  AIC:               </th>           <td>3.401e+05</td> \n",
       "</tr>\n",
       "<tr>\n",
       "  <th>Df Residuals:</th>          <td> 23122</td>      <th>  BIC:               </th>           <td>3.401e+05</td> \n",
       "</tr>\n",
       "<tr>\n",
       "  <th>Df Model:</th>              <td>     6</td>      <th>                     </th>               <td> </td>     \n",
       "</tr>\n",
       "<tr>\n",
       "  <th>Covariance Type:</th>      <td>nonrobust</td>    <th>                     </th>               <td> </td>     \n",
       "</tr>\n",
       "</table>\n",
       "<table class=\"simpletable\">\n",
       "<tr>\n",
       "         <td></td>            <th>coef</th>     <th>std err</th>      <th>t</th>      <th>P>|t|</th>  <th>[0.025</th>    <th>0.975]</th>  \n",
       "</tr>\n",
       "<tr>\n",
       "  <th>hour</th>            <td>   21.0742</td> <td>    0.354</td> <td>   59.499</td> <td> 0.000</td> <td>   20.380</td> <td>   21.768</td>\n",
       "</tr>\n",
       "<tr>\n",
       "  <th>atemp</th>           <td>    1.7218</td> <td>    0.148</td> <td>   11.612</td> <td> 0.000</td> <td>    1.431</td> <td>    2.012</td>\n",
       "</tr>\n",
       "<tr>\n",
       "  <th>day_of_week</th>     <td>   25.9983</td> <td>    1.218</td> <td>   21.346</td> <td> 0.000</td> <td>   23.611</td> <td>   28.386</td>\n",
       "</tr>\n",
       "<tr>\n",
       "  <th>vehicle_encoded</th> <td> -490.3677</td> <td>    4.958</td> <td>  -98.895</td> <td> 0.000</td> <td> -500.087</td> <td> -480.649</td>\n",
       "</tr>\n",
       "<tr>\n",
       "  <th>month</th>           <td>   -3.8278</td> <td>    0.820</td> <td>   -4.671</td> <td> 0.000</td> <td>   -5.434</td> <td>   -2.221</td>\n",
       "</tr>\n",
       "<tr>\n",
       "  <th>ahum</th>            <td>    1.4472</td> <td>    0.148</td> <td>    9.790</td> <td> 0.000</td> <td>    1.157</td> <td>    1.737</td>\n",
       "</tr>\n",
       "</table>\n",
       "<table class=\"simpletable\">\n",
       "<tr>\n",
       "  <th>Omnibus:</th>       <td>14418.823</td> <th>  Durbin-Watson:     </th>  <td>   0.385</td> \n",
       "</tr>\n",
       "<tr>\n",
       "  <th>Prob(Omnibus):</th>  <td> 0.000</td>   <th>  Jarque-Bera (JB):  </th> <td>325636.075</td>\n",
       "</tr>\n",
       "<tr>\n",
       "  <th>Skew:</th>           <td> 2.611</td>   <th>  Prob(JB):          </th>  <td>    0.00</td> \n",
       "</tr>\n",
       "<tr>\n",
       "  <th>Kurtosis:</th>       <td>20.625</td>   <th>  Cond. No.          </th>  <td>    203.</td> \n",
       "</tr>\n",
       "</table><br/><br/>Warnings:<br/>[1] Standard Errors assume that the covariance matrix of the errors is correctly specified."
      ],
      "text/plain": [
       "<class 'statsmodels.iolib.summary.Summary'>\n",
       "\"\"\"\n",
       "                                 OLS Regression Results                                \n",
       "=======================================================================================\n",
       "Dep. Variable:                  count   R-squared (uncentered):                   0.549\n",
       "Model:                            OLS   Adj. R-squared (uncentered):              0.549\n",
       "Method:                 Least Squares   F-statistic:                              4685.\n",
       "Date:                Mon, 28 Oct 2019   Prob (F-statistic):                        0.00\n",
       "Time:                        21:11:21   Log-Likelihood:                     -1.7003e+05\n",
       "No. Observations:               23128   AIC:                                  3.401e+05\n",
       "Df Residuals:                   23122   BIC:                                  3.401e+05\n",
       "Df Model:                           6                                                  \n",
       "Covariance Type:            nonrobust                                                  \n",
       "===================================================================================\n",
       "                      coef    std err          t      P>|t|      [0.025      0.975]\n",
       "-----------------------------------------------------------------------------------\n",
       "hour               21.0742      0.354     59.499      0.000      20.380      21.768\n",
       "atemp               1.7218      0.148     11.612      0.000       1.431       2.012\n",
       "day_of_week        25.9983      1.218     21.346      0.000      23.611      28.386\n",
       "vehicle_encoded  -490.3677      4.958    -98.895      0.000    -500.087    -480.649\n",
       "month              -3.8278      0.820     -4.671      0.000      -5.434      -2.221\n",
       "ahum                1.4472      0.148      9.790      0.000       1.157       1.737\n",
       "==============================================================================\n",
       "Omnibus:                    14418.823   Durbin-Watson:                   0.385\n",
       "Prob(Omnibus):                  0.000   Jarque-Bera (JB):           325636.075\n",
       "Skew:                           2.611   Prob(JB):                         0.00\n",
       "Kurtosis:                      20.625   Cond. No.                         203.\n",
       "==============================================================================\n",
       "\n",
       "Warnings:\n",
       "[1] Standard Errors assume that the covariance matrix of the errors is correctly specified.\n",
       "\"\"\""
      ]
     },
     "execution_count": 14,
     "metadata": {},
     "output_type": "execute_result"
    }
   ],
   "source": [
    "results.summary()"
   ]
  },
  {
   "cell_type": "code",
   "execution_count": 15,
   "metadata": {},
   "outputs": [
    {
     "name": "stdout",
     "output_type": "stream",
     "text": [
      "(23128, 6) (23128, 1)\n"
     ]
    }
   ],
   "source": [
    "# Assign the data to X and y\n",
    "X = all_vehicles[['hour', 'atemp', 'day_of_week','vehicle_encoded','month','ahum']]\n",
    "y = all_vehicles['count'].values.reshape(-1,1)\n",
    "print(X.shape, y.shape)"
   ]
  },
  {
   "cell_type": "code",
   "execution_count": 16,
   "metadata": {},
   "outputs": [],
   "source": [
    "# Use train_test_split to create training and testing data\n",
    "from sklearn.model_selection import train_test_split\n",
    "\n",
    "X_train, X_test, y_train, y_test = train_test_split(X, y, random_state=42)"
   ]
  },
  {
   "cell_type": "code",
   "execution_count": 17,
   "metadata": {},
   "outputs": [],
   "source": [
    "# Create the model using LinearRegression\n",
    "from sklearn.linear_model import LinearRegression\n",
    "model = LinearRegression()"
   ]
  },
  {
   "cell_type": "code",
   "execution_count": 18,
   "metadata": {},
   "outputs": [
    {
     "name": "stdout",
     "output_type": "stream",
     "text": [
      "Training Score: 0.36208414911583486\n",
      "Testing Score: 0.3853888425218427\n"
     ]
    }
   ],
   "source": [
    "# Fit the model to the training data and calculate the scores\n",
    "model.fit(X_train, y_train)\n",
    "training_score = model.score(X_train, y_train)\n",
    "testing_score = model.score(X_test, y_test)\n",
    "\n",
    "print(f\"Training Score: {training_score}\")\n",
    "print(f\"Testing Score: {testing_score}\")"
   ]
  },
  {
   "cell_type": "code",
   "execution_count": 19,
   "metadata": {},
   "outputs": [
    {
     "data": {
      "image/png": "[encoded data removed]",
      "text/plain": [
       "<Figure size 432x288 with 1 Axes>"
      ]
     },
     "metadata": {
      "needs_background": "light"
     },
     "output_type": "display_data"
    }
   ],
   "source": [
    "# Plot the Residuals for the Training and Testing data\n",
    "plt.scatter(model.predict(X_train), model.predict(X_train) - y_train, c=\"blue\", label=\"Training Data\")\n",
    "plt.scatter(model.predict(X_test), model.predict(X_test) - y_test , c=\"orange\", label=\"Testing Data\")\n",
    "plt.legend()\n",
    "plt.title(\"Residual Plot - Raw Numbers\")\n",
    "plt.savefig(\"static/residplot.png\")"
   ]
  },
  {
   "cell_type": "markdown",
   "metadata": {},
   "source": [
    "# Feature Engineering \n",
    "To improve our linear regression model, I have binned the hours and months. The hours are binned at 4 hour intervals and the months are binned at 3 month intervals. \n",
    "\n",
    "With these grouped variables, we see that the other variables still have an impact, with the inclusion of min temperature. \n",
    "\n",
    "There were some improvements, but very minor. The adjusted r-squared value is 0.554 (versus 0.549) and the testing score is still 0.39. The residual plot continues to indicate that this relationship may not be linear. "
   ]
  },
  {
   "cell_type": "code",
   "execution_count": 20,
   "metadata": {},
   "outputs": [
    {
     "data": {
      "text/html": [
       "<div>\n",
       "<style scoped>\n",
       "    .dataframe tbody tr th:only-of-type {\n",
       "        vertical-align: middle;\n",
       "    }\n",
       "\n",
       "    .dataframe tbody tr th {\n",
       "        vertical-align: top;\n",
       "    }\n",
       "\n",
       "    .dataframe thead th {\n",
       "        text-align: right;\n",
       "    }\n",
       "</style>\n",
       "<table border=\"1\" class=\"dataframe\">\n",
       "  <thead>\n",
       "    <tr style=\"text-align: right;\">\n",
       "      <th></th>\n",
       "      <th>month</th>\n",
       "      <th>hour</th>\n",
       "      <th>year</th>\n",
       "      <th>day</th>\n",
       "      <th>count</th>\n",
       "      <th>date</th>\n",
       "      <th>maxtemp</th>\n",
       "      <th>atemp</th>\n",
       "      <th>mintemp</th>\n",
       "      <th>maxhum</th>\n",
       "      <th>ahum</th>\n",
       "      <th>minhum</th>\n",
       "      <th>maxwind</th>\n",
       "      <th>awind</th>\n",
       "      <th>minwind</th>\n",
       "      <th>prec</th>\n",
       "      <th>day_of_week</th>\n",
       "      <th>vehicle_type</th>\n",
       "      <th>vehicle_encoded</th>\n",
       "    </tr>\n",
       "  </thead>\n",
       "  <tbody>\n",
       "    <tr>\n",
       "      <th>0</th>\n",
       "      <td>1</td>\n",
       "      <td>0</td>\n",
       "      <td>2019</td>\n",
       "      <td>1</td>\n",
       "      <td>342</td>\n",
       "      <td>2019-01-01</td>\n",
       "      <td>46</td>\n",
       "      <td>41</td>\n",
       "      <td>36</td>\n",
       "      <td>97</td>\n",
       "      <td>83</td>\n",
       "      <td>76</td>\n",
       "      <td>21</td>\n",
       "      <td>11</td>\n",
       "      <td>0</td>\n",
       "      <td>0</td>\n",
       "      <td>1</td>\n",
       "      <td>scooter</td>\n",
       "      <td>0</td>\n",
       "    </tr>\n",
       "    <tr>\n",
       "      <th>1</th>\n",
       "      <td>1</td>\n",
       "      <td>0</td>\n",
       "      <td>2019</td>\n",
       "      <td>2</td>\n",
       "      <td>79</td>\n",
       "      <td>2019-01-02</td>\n",
       "      <td>41</td>\n",
       "      <td>38</td>\n",
       "      <td>37</td>\n",
       "      <td>97</td>\n",
       "      <td>92</td>\n",
       "      <td>79</td>\n",
       "      <td>15</td>\n",
       "      <td>10</td>\n",
       "      <td>8</td>\n",
       "      <td>1</td>\n",
       "      <td>2</td>\n",
       "      <td>scooter</td>\n",
       "      <td>0</td>\n",
       "    </tr>\n",
       "    <tr>\n",
       "      <th>2</th>\n",
       "      <td>1</td>\n",
       "      <td>0</td>\n",
       "      <td>2019</td>\n",
       "      <td>3</td>\n",
       "      <td>16</td>\n",
       "      <td>2019-01-03</td>\n",
       "      <td>52</td>\n",
       "      <td>40</td>\n",
       "      <td>31</td>\n",
       "      <td>97</td>\n",
       "      <td>85</td>\n",
       "      <td>53</td>\n",
       "      <td>13</td>\n",
       "      <td>7</td>\n",
       "      <td>0</td>\n",
       "      <td>1</td>\n",
       "      <td>3</td>\n",
       "      <td>scooter</td>\n",
       "      <td>0</td>\n",
       "    </tr>\n",
       "    <tr>\n",
       "      <th>3</th>\n",
       "      <td>1</td>\n",
       "      <td>0</td>\n",
       "      <td>2019</td>\n",
       "      <td>4</td>\n",
       "      <td>82</td>\n",
       "      <td>2019-01-04</td>\n",
       "      <td>67</td>\n",
       "      <td>46</td>\n",
       "      <td>30</td>\n",
       "      <td>96</td>\n",
       "      <td>66</td>\n",
       "      <td>31</td>\n",
       "      <td>10</td>\n",
       "      <td>3</td>\n",
       "      <td>0</td>\n",
       "      <td>1</td>\n",
       "      <td>4</td>\n",
       "      <td>scooter</td>\n",
       "      <td>0</td>\n",
       "    </tr>\n",
       "    <tr>\n",
       "      <th>4</th>\n",
       "      <td>1</td>\n",
       "      <td>0</td>\n",
       "      <td>2019</td>\n",
       "      <td>5</td>\n",
       "      <td>188</td>\n",
       "      <td>2019-01-05</td>\n",
       "      <td>73</td>\n",
       "      <td>49</td>\n",
       "      <td>32</td>\n",
       "      <td>93</td>\n",
       "      <td>66</td>\n",
       "      <td>24</td>\n",
       "      <td>13</td>\n",
       "      <td>4</td>\n",
       "      <td>0</td>\n",
       "      <td>0</td>\n",
       "      <td>5</td>\n",
       "      <td>scooter</td>\n",
       "      <td>0</td>\n",
       "    </tr>\n",
       "  </tbody>\n",
       "</table>\n",
       "</div>"
      ],
      "text/plain": [
       "   month  hour  year  day  count        date  maxtemp  atemp  mintemp  maxhum  \\\n",
       "0      1     0  2019    1    342  2019-01-01       46     41       36      97   \n",
       "1      1     0  2019    2     79  2019-01-02       41     38       37      97   \n",
       "2      1     0  2019    3     16  2019-01-03       52     40       31      97   \n",
       "3      1     0  2019    4     82  2019-01-04       67     46       30      96   \n",
       "4      1     0  2019    5    188  2019-01-05       73     49       32      93   \n",
       "\n",
       "   ahum  minhum  maxwind  awind  minwind  prec  day_of_week vehicle_type  \\\n",
       "0    83      76       21     11        0     0            1      scooter   \n",
       "1    92      79       15     10        8     1            2      scooter   \n",
       "2    85      53       13      7        0     1            3      scooter   \n",
       "3    66      31       10      3        0     1            4      scooter   \n",
       "4    66      24       13      4        0     0            5      scooter   \n",
       "\n",
       "   vehicle_encoded  \n",
       "0                0  \n",
       "1                0  \n",
       "2                0  \n",
       "3                0  \n",
       "4                0  "
      ]
     },
     "execution_count": 20,
     "metadata": {},
     "output_type": "execute_result"
    }
   ],
   "source": [
    "all_vehicles.head()"
   ]
  },
  {
   "cell_type": "code",
   "execution_count": 21,
   "metadata": {},
   "outputs": [],
   "source": [
    "# Segment Hour and Month data\n",
    "all_vehicles['hour_encoded'] = pd.cut(all_vehicles['hour'], bins=6, labels=[0,1,2,3,4,5])\n",
    "all_vehicles['month_encoded'] = pd.cut(all_vehicles['month'],bins=4, labels=[0,1,2,3])\n",
    "all_vehicles['hour_encoded'] = all_vehicles['hour_encoded'].astype('int')\n",
    "all_vehicles['month_encoded'] = all_vehicles['month_encoded'].astype('int')"
   ]
  },
  {
   "cell_type": "code",
   "execution_count": 22,
   "metadata": {},
   "outputs": [],
   "source": [
    "#reevaluate using statsmodels\n",
    "Y = all_vehicles['count']"
   ]
  },
  {
   "cell_type": "code",
   "execution_count": 23,
   "metadata": {},
   "outputs": [],
   "source": [
    "X = all_vehicles[['hour_encoded', 'month_encoded','atemp','vehicle_encoded','day_of_week','awind','ahum','mintemp']]"
   ]
  },
  {
   "cell_type": "code",
   "execution_count": 24,
   "metadata": {},
   "outputs": [],
   "source": [
    "model = sm.OLS(Y,X)"
   ]
  },
  {
   "cell_type": "code",
   "execution_count": 25,
   "metadata": {},
   "outputs": [],
   "source": [
    "results = model.fit()"
   ]
  },
  {
   "cell_type": "code",
   "execution_count": 26,
   "metadata": {},
   "outputs": [
    {
     "data": {
      "text/html": [
       "<table class=\"simpletable\">\n",
       "<caption>OLS Regression Results</caption>\n",
       "<tr>\n",
       "  <th>Dep. Variable:</th>          <td>count</td>      <th>  R-squared (uncentered):</th>       <td>   0.554</td>  \n",
       "</tr>\n",
       "<tr>\n",
       "  <th>Model:</th>                   <td>OLS</td>       <th>  Adj. R-squared (uncentered):</th>  <td>   0.554</td>  \n",
       "</tr>\n",
       "<tr>\n",
       "  <th>Method:</th>             <td>Least Squares</td>  <th>  F-statistic:       </th>           <td>   3588.</td>  \n",
       "</tr>\n",
       "<tr>\n",
       "  <th>Date:</th>             <td>Mon, 28 Oct 2019</td> <th>  Prob (F-statistic):</th>            <td>  0.00</td>   \n",
       "</tr>\n",
       "<tr>\n",
       "  <th>Time:</th>                 <td>21:11:33</td>     <th>  Log-Likelihood:    </th>          <td>-1.6989e+05</td>\n",
       "</tr>\n",
       "<tr>\n",
       "  <th>No. Observations:</th>      <td> 23128</td>      <th>  AIC:               </th>           <td>3.398e+05</td> \n",
       "</tr>\n",
       "<tr>\n",
       "  <th>Df Residuals:</th>          <td> 23120</td>      <th>  BIC:               </th>           <td>3.399e+05</td> \n",
       "</tr>\n",
       "<tr>\n",
       "  <th>Df Model:</th>              <td>     8</td>      <th>                     </th>               <td> </td>     \n",
       "</tr>\n",
       "<tr>\n",
       "  <th>Covariance Type:</th>      <td>nonrobust</td>    <th>                     </th>               <td> </td>     \n",
       "</tr>\n",
       "</table>\n",
       "<table class=\"simpletable\">\n",
       "<tr>\n",
       "         <td></td>            <th>coef</th>     <th>std err</th>      <th>t</th>      <th>P>|t|</th>  <th>[0.025</th>    <th>0.975]</th>  \n",
       "</tr>\n",
       "<tr>\n",
       "  <th>hour_encoded</th>    <td>   84.9716</td> <td>    1.443</td> <td>   58.872</td> <td> 0.000</td> <td>   82.143</td> <td>   87.801</td>\n",
       "</tr>\n",
       "<tr>\n",
       "  <th>month_encoded</th>   <td>  -19.1288</td> <td>    2.498</td> <td>   -7.658</td> <td> 0.000</td> <td>  -24.025</td> <td>  -14.233</td>\n",
       "</tr>\n",
       "<tr>\n",
       "  <th>atemp</th>           <td>    5.3683</td> <td>    0.412</td> <td>   13.046</td> <td> 0.000</td> <td>    4.562</td> <td>    6.175</td>\n",
       "</tr>\n",
       "<tr>\n",
       "  <th>vehicle_encoded</th> <td> -492.2035</td> <td>    4.937</td> <td>  -99.699</td> <td> 0.000</td> <td> -501.880</td> <td> -482.527</td>\n",
       "</tr>\n",
       "<tr>\n",
       "  <th>day_of_week</th>     <td>   24.6266</td> <td>    1.219</td> <td>   20.195</td> <td> 0.000</td> <td>   22.236</td> <td>   27.017</td>\n",
       "</tr>\n",
       "<tr>\n",
       "  <th>awind</th>           <td>    4.5675</td> <td>    0.672</td> <td>    6.797</td> <td> 0.000</td> <td>    3.250</td> <td>    5.885</td>\n",
       "</tr>\n",
       "<tr>\n",
       "  <th>ahum</th>            <td>    1.4422</td> <td>    0.151</td> <td>    9.580</td> <td> 0.000</td> <td>    1.147</td> <td>    1.737</td>\n",
       "</tr>\n",
       "<tr>\n",
       "  <th>mintemp</th>         <td>   -4.1032</td> <td>    0.442</td> <td>   -9.282</td> <td> 0.000</td> <td>   -4.970</td> <td>   -3.237</td>\n",
       "</tr>\n",
       "</table>\n",
       "<table class=\"simpletable\">\n",
       "<tr>\n",
       "  <th>Omnibus:</th>       <td>14254.043</td> <th>  Durbin-Watson:     </th>  <td>   0.391</td> \n",
       "</tr>\n",
       "<tr>\n",
       "  <th>Prob(Omnibus):</th>  <td> 0.000</td>   <th>  Jarque-Bera (JB):  </th> <td>312438.901</td>\n",
       "</tr>\n",
       "<tr>\n",
       "  <th>Skew:</th>           <td> 2.578</td>   <th>  Prob(JB):          </th>  <td>    0.00</td> \n",
       "</tr>\n",
       "<tr>\n",
       "  <th>Kurtosis:</th>       <td>20.252</td>   <th>  Cond. No.          </th>  <td>    239.</td> \n",
       "</tr>\n",
       "</table><br/><br/>Warnings:<br/>[1] Standard Errors assume that the covariance matrix of the errors is correctly specified."
      ],
      "text/plain": [
       "<class 'statsmodels.iolib.summary.Summary'>\n",
       "\"\"\"\n",
       "                                 OLS Regression Results                                \n",
       "=======================================================================================\n",
       "Dep. Variable:                  count   R-squared (uncentered):                   0.554\n",
       "Model:                            OLS   Adj. R-squared (uncentered):              0.554\n",
       "Method:                 Least Squares   F-statistic:                              3588.\n",
       "Date:                Mon, 28 Oct 2019   Prob (F-statistic):                        0.00\n",
       "Time:                        21:11:33   Log-Likelihood:                     -1.6989e+05\n",
       "No. Observations:               23128   AIC:                                  3.398e+05\n",
       "Df Residuals:                   23120   BIC:                                  3.399e+05\n",
       "Df Model:                           8                                                  \n",
       "Covariance Type:            nonrobust                                                  \n",
       "===================================================================================\n",
       "                      coef    std err          t      P>|t|      [0.025      0.975]\n",
       "-----------------------------------------------------------------------------------\n",
       "hour_encoded       84.9716      1.443     58.872      0.000      82.143      87.801\n",
       "month_encoded     -19.1288      2.498     -7.658      0.000     -24.025     -14.233\n",
       "atemp               5.3683      0.412     13.046      0.000       4.562       6.175\n",
       "vehicle_encoded  -492.2035      4.937    -99.699      0.000    -501.880    -482.527\n",
       "day_of_week        24.6266      1.219     20.195      0.000      22.236      27.017\n",
       "awind               4.5675      0.672      6.797      0.000       3.250       5.885\n",
       "ahum                1.4422      0.151      9.580      0.000       1.147       1.737\n",
       "mintemp            -4.1032      0.442     -9.282      0.000      -4.970      -3.237\n",
       "==============================================================================\n",
       "Omnibus:                    14254.043   Durbin-Watson:                   0.391\n",
       "Prob(Omnibus):                  0.000   Jarque-Bera (JB):           312438.901\n",
       "Skew:                           2.578   Prob(JB):                         0.00\n",
       "Kurtosis:                      20.252   Cond. No.                         239.\n",
       "==============================================================================\n",
       "\n",
       "Warnings:\n",
       "[1] Standard Errors assume that the covariance matrix of the errors is correctly specified.\n",
       "\"\"\""
      ]
     },
     "execution_count": 26,
     "metadata": {},
     "output_type": "execute_result"
    }
   ],
   "source": [
    "# adjusted r-squared slightlight improved\n",
    "results.summary()"
   ]
  },
  {
   "cell_type": "code",
   "execution_count": 27,
   "metadata": {},
   "outputs": [
    {
     "name": "stdout",
     "output_type": "stream",
     "text": [
      "(23128, 8) (23128, 1)\n"
     ]
    }
   ],
   "source": [
    "# evaluate the linear regression\n",
    "X = all_vehicles[['hour_encoded', 'month_encoded','atemp','vehicle_encoded','day_of_week','awind','ahum','mintemp']]\n",
    "y = all_vehicles['count'].values.reshape(-1,1)\n",
    "print(X.shape, y.shape)"
   ]
  },
  {
   "cell_type": "code",
   "execution_count": 28,
   "metadata": {},
   "outputs": [],
   "source": [
    "from sklearn.model_selection import train_test_split\n",
    "\n",
    "X_train, X_test, y_train, y_test = train_test_split(X, y, random_state=42)"
   ]
  },
  {
   "cell_type": "code",
   "execution_count": 29,
   "metadata": {},
   "outputs": [],
   "source": [
    "from sklearn.linear_model import LinearRegression\n",
    "model = LinearRegression()"
   ]
  },
  {
   "cell_type": "code",
   "execution_count": 30,
   "metadata": {},
   "outputs": [
    {
     "name": "stdout",
     "output_type": "stream",
     "text": [
      "Training Score: 0.3672324581371462\n",
      "Testing Score: 0.388879071004372\n"
     ]
    }
   ],
   "source": [
    "model.fit(X_train, y_train)\n",
    "training_score = model.score(X_train, y_train)\n",
    "testing_score = model.score(X_test, y_test)\n",
    "\n",
    "### END SOLUTION \n",
    "\n",
    "print(f\"Training Score: {training_score}\")\n",
    "print(f\"Testing Score: {testing_score}\")"
   ]
  },
  {
   "cell_type": "code",
   "execution_count": 31,
   "metadata": {},
   "outputs": [
    {
     "data": {
      "image/png": "[encoded data removed]",
      "text/plain": [
       "<Figure size 432x288 with 1 Axes>"
      ]
     },
     "metadata": {
      "needs_background": "light"
     },
     "output_type": "display_data"
    }
   ],
   "source": [
    "plt.scatter(model.predict(X_train), model.predict(X_train) - y_train, c=\"blue\", label=\"Training Data\")\n",
    "plt.scatter(model.predict(X_test), model.predict(X_test) - y_test, c=\"orange\", label=\"Testing Data\")\n",
    "plt.legend()\n",
    "# plt.hlines(y=0, xmin=y.min(), xmax=y.max())\n",
    "plt.title(\"Residual Plot - With Bins\")\n",
    "plt.savefig(\"static/residplot2.png\")"
   ]
  },
  {
   "cell_type": "markdown",
   "metadata": {},
   "source": [
    "# Other Linear Models \n",
    "Perhaps the LinearRegression model is not the best fit for this data, but other linear models could work better. \n",
    "\n",
    "I tested:\n",
    "* Scaled Linear Regression\n",
    "* LASSO model\n",
    "* Ridge model\n",
    "* ElasticNet model\n",
    "\n",
    "Out of these, the scaled linear regression and Ridge model had the lowest R2 (~0.38)."
   ]
  },
  {
   "cell_type": "code",
   "execution_count": 32,
   "metadata": {},
   "outputs": [],
   "source": [
    "# Test 1: Scaled Linear Regression\n",
    "from sklearn.model_selection import train_test_split\n",
    "\n",
    "X_train, X_test, y_train, y_test = train_test_split(X, y, random_state=42)"
   ]
  },
  {
   "cell_type": "code",
   "execution_count": 33,
   "metadata": {},
   "outputs": [],
   "source": [
    "from sklearn.preprocessing import StandardScaler\n",
    "\n",
    "# Create a StandardScater model and fit it to the training data\n",
    "\n",
    "X_scaler = StandardScaler().fit(X_train)\n",
    "y_scaler = StandardScaler().fit(y_train)"
   ]
  },
  {
   "cell_type": "code",
   "execution_count": 34,
   "metadata": {},
   "outputs": [],
   "source": [
    "# Transform the training and testing data using the X_scaler and \n",
    "# y_scaler models\n",
    "\n",
    "X_train_scaled = X_scaler.transform(X_train)\n",
    "X_test_scaled = X_scaler.transform(X_test)\n",
    "y_train_scaled = y_scaler.transform(y_train)\n",
    "y_test_scaled = y_scaler.transform(y_test)"
   ]
  },
  {
   "cell_type": "code",
   "execution_count": 35,
   "metadata": {},
   "outputs": [
    {
     "data": {
      "text/plain": [
       "LinearRegression(copy_X=True, fit_intercept=True, n_jobs=None, normalize=False)"
      ]
     },
     "execution_count": 35,
     "metadata": {},
     "output_type": "execute_result"
    }
   ],
   "source": [
    "# Create a LinearRegression model and fit it to the scaled training data\n",
    "\n",
    "from sklearn.linear_model import LinearRegression\n",
    "model = LinearRegression()\n",
    "model.fit(X_train_scaled, y_train_scaled)"
   ]
  },
  {
   "cell_type": "code",
   "execution_count": 36,
   "metadata": {},
   "outputs": [
    {
     "data": {
      "image/png": "[encoded data removed]",
      "text/plain": [
       "<Figure size 432x288 with 1 Axes>"
      ]
     },
     "metadata": {
      "needs_background": "light"
     },
     "output_type": "display_data"
    }
   ],
   "source": [
    "# Make predictions using the X_test_scaled data\n",
    "# Plot y_test_scaled vs y_test_scaled\n",
    "# Scatter plot y_test_scaled vs predictions\n",
    "\n",
    "predictions = model.predict(X_test_scaled)\n",
    "model.fit(X_train_scaled, y_train_scaled)\n",
    "plt.scatter(model.predict(X_train_scaled), model.predict(X_train_scaled) - y_train_scaled, c=\"blue\", label=\"Training Data\")\n",
    "plt.scatter(model.predict(X_test_scaled), model.predict(X_test_scaled) - y_test_scaled, c=\"orange\", label=\"Testing Data\")\n",
    "plt.legend()\n",
    "# plt.hlines(y=0, xmin=y_test_scaled.min(), xmax=y_test_scaled.max())\n",
    "plt.title(\"Residual Plot\")\n",
    "plt.show()"
   ]
  },
  {
   "cell_type": "code",
   "execution_count": 37,
   "metadata": {},
   "outputs": [
    {
     "name": "stdout",
     "output_type": "stream",
     "text": [
      "MSE: 0.5206367361082428, R2: 0.38887907100437213\n"
     ]
    }
   ],
   "source": [
    "# Used X_test_scaled, y_test_scaled, and model.predict(X_test_scaled)\n",
    "# to calculate MSE and R2\n",
    "\n",
    "from sklearn.metrics import mean_squared_error\n",
    "\n",
    "MSE = mean_squared_error(y_test_scaled, predictions)\n",
    "r2 = model.score(X_test_scaled, y_test_scaled)\n",
    "\n",
    "print(f\"MSE: {MSE}, R2: {r2}\")"
   ]
  },
  {
   "cell_type": "code",
   "execution_count": 38,
   "metadata": {},
   "outputs": [
    {
     "name": "stdout",
     "output_type": "stream",
     "text": [
      "MSE: 0.519908317512917, R2: 0.38973408529322295\n"
     ]
    }
   ],
   "source": [
    "# LASSO model\n",
    "from sklearn.linear_model import Lasso\n",
    "lasso = Lasso(alpha=.01).fit(X_train_scaled, y_train_scaled)\n",
    "\n",
    "predictions = lasso.predict(X_test_scaled)\n",
    "\n",
    "MSE = mean_squared_error(y_test_scaled, predictions)\n",
    "r2 = lasso.score(X_test_scaled, y_test_scaled)\n",
    "\n",
    "print(f\"MSE: {MSE}, R2: {r2}\")"
   ]
  },
  {
   "cell_type": "code",
   "execution_count": 39,
   "metadata": {},
   "outputs": [
    {
     "name": "stdout",
     "output_type": "stream",
     "text": [
      "MSE: 0.5206367163803711, R2: 0.3888790941608543\n"
     ]
    }
   ],
   "source": [
    "# Ridge model\n",
    "from sklearn.linear_model import Ridge\n",
    "\n",
    "ridge = Ridge(alpha=.01).fit(X_train_scaled, y_train_scaled)\n",
    "\n",
    "predictions = ridge.predict(X_test_scaled)\n",
    "\n",
    "MSE = mean_squared_error(y_test_scaled, predictions)\n",
    "r2 = ridge.score(X_test_scaled, y_test_scaled)\n",
    "\n",
    "print(f\"MSE: {MSE}, R2: {r2}\")"
   ]
  },
  {
   "cell_type": "code",
   "execution_count": 40,
   "metadata": {},
   "outputs": [
    {
     "name": "stdout",
     "output_type": "stream",
     "text": [
      "MSE: 0.520046557903069, R2: 0.38957181937959207\n"
     ]
    }
   ],
   "source": [
    "# ElasticNet model\n",
    "from sklearn.linear_model import ElasticNet\n",
    "\n",
    "elasticnet = ElasticNet(alpha=.01).fit(X_train_scaled, y_train_scaled)\n",
    "\n",
    "predictions = elasticnet.predict(X_test_scaled)\n",
    "\n",
    "MSE = mean_squared_error(y_test_scaled, predictions)\n",
    "r2 = elasticnet.score(X_test_scaled, y_test_scaled)\n",
    "\n",
    "print(f\"MSE: {MSE}, R2: {r2}\")"
   ]
  },
  {
   "cell_type": "markdown",
   "metadata": {},
   "source": [
    "# Decision Tree Classifier Test \n",
    "As a final test, I used the Decision Tree Classifier to analyze the data. \n",
    "\n",
    "I used the categories I knew were meaningful in the Linear Regressions and tried to use the Decision Tree Classifier to predict the total count. The score for this was only ~0.03. \n",
    "\n",
    "I then decided to bin the Count data so that it was in groups of ~ 470 each. This improved the accuracy to ~0.90!\n",
    "\n",
    "I also checked if my linear regressions would improve by binning the Count data. This actually decreased the accuracy from ~0.38 to ~0.29.\n",
    "\n",
    "Let's save the decision tree model as a pickle file and use it on Flask!"
   ]
  },
  {
   "cell_type": "code",
   "execution_count": 41,
   "metadata": {},
   "outputs": [
    {
     "data": {
      "text/html": [
       "<div>\n",
       "<style scoped>\n",
       "    .dataframe tbody tr th:only-of-type {\n",
       "        vertical-align: middle;\n",
       "    }\n",
       "\n",
       "    .dataframe tbody tr th {\n",
       "        vertical-align: top;\n",
       "    }\n",
       "\n",
       "    .dataframe thead th {\n",
       "        text-align: right;\n",
       "    }\n",
       "</style>\n",
       "<table border=\"1\" class=\"dataframe\">\n",
       "  <thead>\n",
       "    <tr style=\"text-align: right;\">\n",
       "      <th></th>\n",
       "      <th>day</th>\n",
       "      <th>day_of_week</th>\n",
       "      <th>month</th>\n",
       "      <th>year</th>\n",
       "      <th>hour</th>\n",
       "      <th>atemp</th>\n",
       "      <th>ahum</th>\n",
       "      <th>awind</th>\n",
       "      <th>prec</th>\n",
       "      <th>vehicle_encoded</th>\n",
       "      <th>hour_encoded</th>\n",
       "      <th>month_encoded</th>\n",
       "    </tr>\n",
       "  </thead>\n",
       "  <tbody>\n",
       "    <tr>\n",
       "      <th>0</th>\n",
       "      <td>1</td>\n",
       "      <td>1</td>\n",
       "      <td>1</td>\n",
       "      <td>2019</td>\n",
       "      <td>0</td>\n",
       "      <td>41</td>\n",
       "      <td>83</td>\n",
       "      <td>11</td>\n",
       "      <td>0</td>\n",
       "      <td>0</td>\n",
       "      <td>0</td>\n",
       "      <td>0</td>\n",
       "    </tr>\n",
       "    <tr>\n",
       "      <th>1</th>\n",
       "      <td>2</td>\n",
       "      <td>2</td>\n",
       "      <td>1</td>\n",
       "      <td>2019</td>\n",
       "      <td>0</td>\n",
       "      <td>38</td>\n",
       "      <td>92</td>\n",
       "      <td>10</td>\n",
       "      <td>1</td>\n",
       "      <td>0</td>\n",
       "      <td>0</td>\n",
       "      <td>0</td>\n",
       "    </tr>\n",
       "    <tr>\n",
       "      <th>2</th>\n",
       "      <td>3</td>\n",
       "      <td>3</td>\n",
       "      <td>1</td>\n",
       "      <td>2019</td>\n",
       "      <td>0</td>\n",
       "      <td>40</td>\n",
       "      <td>85</td>\n",
       "      <td>7</td>\n",
       "      <td>1</td>\n",
       "      <td>0</td>\n",
       "      <td>0</td>\n",
       "      <td>0</td>\n",
       "    </tr>\n",
       "    <tr>\n",
       "      <th>3</th>\n",
       "      <td>4</td>\n",
       "      <td>4</td>\n",
       "      <td>1</td>\n",
       "      <td>2019</td>\n",
       "      <td>0</td>\n",
       "      <td>46</td>\n",
       "      <td>66</td>\n",
       "      <td>3</td>\n",
       "      <td>1</td>\n",
       "      <td>0</td>\n",
       "      <td>0</td>\n",
       "      <td>0</td>\n",
       "    </tr>\n",
       "    <tr>\n",
       "      <th>4</th>\n",
       "      <td>5</td>\n",
       "      <td>5</td>\n",
       "      <td>1</td>\n",
       "      <td>2019</td>\n",
       "      <td>0</td>\n",
       "      <td>49</td>\n",
       "      <td>66</td>\n",
       "      <td>4</td>\n",
       "      <td>0</td>\n",
       "      <td>0</td>\n",
       "      <td>0</td>\n",
       "      <td>0</td>\n",
       "    </tr>\n",
       "  </tbody>\n",
       "</table>\n",
       "</div>"
      ],
      "text/plain": [
       "   day  day_of_week  month  year  hour  atemp  ahum  awind  prec  \\\n",
       "0    1            1      1  2019     0     41    83     11     0   \n",
       "1    2            2      1  2019     0     38    92     10     1   \n",
       "2    3            3      1  2019     0     40    85      7     1   \n",
       "3    4            4      1  2019     0     46    66      3     1   \n",
       "4    5            5      1  2019     0     49    66      4     0   \n",
       "\n",
       "   vehicle_encoded  hour_encoded  month_encoded  \n",
       "0                0             0              0  \n",
       "1                0             0              0  \n",
       "2                0             0              0  \n",
       "3                0             0              0  \n",
       "4                0             0              0  "
      ]
     },
     "execution_count": 41,
     "metadata": {},
     "output_type": "execute_result"
    }
   ],
   "source": [
    "from sklearn import tree\n",
    "target = all_vehicles['count']\n",
    "data = all_vehicles[['day', 'day_of_week','month','year','hour','atemp','ahum',\n",
    "                    'awind','prec','vehicle_encoded','hour_encoded',\n",
    "                     'month_encoded']]\n",
    "data.head()"
   ]
  },
  {
   "cell_type": "code",
   "execution_count": 42,
   "metadata": {},
   "outputs": [],
   "source": [
    "from sklearn.model_selection import train_test_split\n",
    "X_train, X_test, y_train, y_test = train_test_split(data, target, random_state=42)"
   ]
  },
  {
   "cell_type": "code",
   "execution_count": 43,
   "metadata": {},
   "outputs": [
    {
     "data": {
      "text/plain": [
       "0.03597371151850571"
      ]
     },
     "execution_count": 43,
     "metadata": {},
     "output_type": "execute_result"
    }
   ],
   "source": [
    "clf = tree.DecisionTreeClassifier()\n",
    "clf = clf.fit(X_train, y_train)\n",
    "clf.score(X_test, y_test)"
   ]
  },
  {
   "cell_type": "code",
   "execution_count": 44,
   "metadata": {},
   "outputs": [
    {
     "name": "stderr",
     "output_type": "stream",
     "text": [
      "C:\\Users\\Ashley\\Anaconda3\\lib\\site-packages\\ipykernel_launcher.py:2: SettingWithCopyWarning: \n",
      "A value is trying to be set on a copy of a slice from a DataFrame.\n",
      "Try using .loc[row_indexer,col_indexer] = value instead\n",
      "\n",
      "See the caveats in the documentation: http://pandas.pydata.org/pandas-docs/stable/indexing.html#indexing-view-versus-copy\n",
      "  \n",
      "C:\\Users\\Ashley\\Anaconda3\\lib\\site-packages\\ipykernel_launcher.py:3: SettingWithCopyWarning: \n",
      "A value is trying to be set on a copy of a slice from a DataFrame.\n",
      "Try using .loc[row_indexer,col_indexer] = value instead\n",
      "\n",
      "See the caveats in the documentation: http://pandas.pydata.org/pandas-docs/stable/indexing.html#indexing-view-versus-copy\n",
      "  This is separate from the ipykernel package so we can avoid doing imports until\n"
     ]
    }
   ],
   "source": [
    "data['count_encoded'] = pd.cut(all_vehicles['count'], bins=11, labels=[0,1,2,3,4,5,\n",
    "                                                                       6,7,8,9,10])\n",
    "data['count_encoded'] = data['count_encoded'].astype('int')"
   ]
  },
  {
   "cell_type": "code",
   "execution_count": 45,
   "metadata": {},
   "outputs": [
    {
     "data": {
      "text/html": [
       "<div>\n",
       "<style scoped>\n",
       "    .dataframe tbody tr th:only-of-type {\n",
       "        vertical-align: middle;\n",
       "    }\n",
       "\n",
       "    .dataframe tbody tr th {\n",
       "        vertical-align: top;\n",
       "    }\n",
       "\n",
       "    .dataframe thead th {\n",
       "        text-align: right;\n",
       "    }\n",
       "</style>\n",
       "<table border=\"1\" class=\"dataframe\">\n",
       "  <thead>\n",
       "    <tr style=\"text-align: right;\">\n",
       "      <th></th>\n",
       "      <th>day</th>\n",
       "      <th>day_of_week</th>\n",
       "      <th>month</th>\n",
       "      <th>year</th>\n",
       "      <th>hour</th>\n",
       "      <th>atemp</th>\n",
       "      <th>ahum</th>\n",
       "      <th>awind</th>\n",
       "      <th>prec</th>\n",
       "      <th>vehicle_encoded</th>\n",
       "      <th>hour_encoded</th>\n",
       "      <th>month_encoded</th>\n",
       "      <th>count_encoded</th>\n",
       "    </tr>\n",
       "  </thead>\n",
       "  <tbody>\n",
       "    <tr>\n",
       "      <th>1920</th>\n",
       "      <td>10</td>\n",
       "      <td>6</td>\n",
       "      <td>3</td>\n",
       "      <td>2019</td>\n",
       "      <td>16</td>\n",
       "      <td>67</td>\n",
       "      <td>79</td>\n",
       "      <td>7</td>\n",
       "      <td>0</td>\n",
       "      <td>0</td>\n",
       "      <td>4</td>\n",
       "      <td>0</td>\n",
       "      <td>10</td>\n",
       "    </tr>\n",
       "    <tr>\n",
       "      <th>9456</th>\n",
       "      <td>7</td>\n",
       "      <td>5</td>\n",
       "      <td>9</td>\n",
       "      <td>2019</td>\n",
       "      <td>15</td>\n",
       "      <td>86</td>\n",
       "      <td>57</td>\n",
       "      <td>7</td>\n",
       "      <td>0</td>\n",
       "      <td>0</td>\n",
       "      <td>3</td>\n",
       "      <td>2</td>\n",
       "      <td>10</td>\n",
       "    </tr>\n",
       "    <tr>\n",
       "      <th>1985</th>\n",
       "      <td>13</td>\n",
       "      <td>2</td>\n",
       "      <td>3</td>\n",
       "      <td>2019</td>\n",
       "      <td>18</td>\n",
       "      <td>69</td>\n",
       "      <td>75</td>\n",
       "      <td>12</td>\n",
       "      <td>1</td>\n",
       "      <td>0</td>\n",
       "      <td>4</td>\n",
       "      <td>0</td>\n",
       "      <td>10</td>\n",
       "    </tr>\n",
       "    <tr>\n",
       "      <th>1982</th>\n",
       "      <td>10</td>\n",
       "      <td>6</td>\n",
       "      <td>3</td>\n",
       "      <td>2019</td>\n",
       "      <td>18</td>\n",
       "      <td>67</td>\n",
       "      <td>79</td>\n",
       "      <td>7</td>\n",
       "      <td>0</td>\n",
       "      <td>0</td>\n",
       "      <td>4</td>\n",
       "      <td>0</td>\n",
       "      <td>10</td>\n",
       "    </tr>\n",
       "    <tr>\n",
       "      <th>1981</th>\n",
       "      <td>9</td>\n",
       "      <td>5</td>\n",
       "      <td>3</td>\n",
       "      <td>2019</td>\n",
       "      <td>18</td>\n",
       "      <td>71</td>\n",
       "      <td>67</td>\n",
       "      <td>9</td>\n",
       "      <td>1</td>\n",
       "      <td>0</td>\n",
       "      <td>4</td>\n",
       "      <td>0</td>\n",
       "      <td>10</td>\n",
       "    </tr>\n",
       "  </tbody>\n",
       "</table>\n",
       "</div>"
      ],
      "text/plain": [
       "      day  day_of_week  month  year  hour  atemp  ahum  awind  prec  \\\n",
       "1920   10            6      3  2019    16     67    79      7     0   \n",
       "9456    7            5      9  2019    15     86    57      7     0   \n",
       "1985   13            2      3  2019    18     69    75     12     1   \n",
       "1982   10            6      3  2019    18     67    79      7     0   \n",
       "1981    9            5      3  2019    18     71    67      9     1   \n",
       "\n",
       "      vehicle_encoded  hour_encoded  month_encoded  count_encoded  \n",
       "1920                0             4              0             10  \n",
       "9456                0             3              2             10  \n",
       "1985                0             4              0             10  \n",
       "1982                0             4              0             10  \n",
       "1981                0             4              0             10  "
      ]
     },
     "execution_count": 45,
     "metadata": {},
     "output_type": "execute_result"
    }
   ],
   "source": [
    "data.sort_values('count_encoded', ascending=False).head()"
   ]
  },
  {
   "cell_type": "code",
   "execution_count": 46,
   "metadata": {},
   "outputs": [
    {
     "data": {
      "text/html": [
       "<div>\n",
       "<style scoped>\n",
       "    .dataframe tbody tr th:only-of-type {\n",
       "        vertical-align: middle;\n",
       "    }\n",
       "\n",
       "    .dataframe tbody tr th {\n",
       "        vertical-align: top;\n",
       "    }\n",
       "\n",
       "    .dataframe thead th {\n",
       "        text-align: right;\n",
       "    }\n",
       "</style>\n",
       "<table border=\"1\" class=\"dataframe\">\n",
       "  <thead>\n",
       "    <tr style=\"text-align: right;\">\n",
       "      <th></th>\n",
       "      <th>day</th>\n",
       "      <th>day_of_week</th>\n",
       "      <th>month</th>\n",
       "      <th>year</th>\n",
       "      <th>hour</th>\n",
       "      <th>atemp</th>\n",
       "      <th>ahum</th>\n",
       "      <th>awind</th>\n",
       "      <th>prec</th>\n",
       "      <th>vehicle_encoded</th>\n",
       "      <th>hour_encoded</th>\n",
       "      <th>month_encoded</th>\n",
       "      <th>count_encoded</th>\n",
       "    </tr>\n",
       "  </thead>\n",
       "  <tbody>\n",
       "    <tr>\n",
       "      <th>0</th>\n",
       "      <td>1</td>\n",
       "      <td>1</td>\n",
       "      <td>1</td>\n",
       "      <td>2019</td>\n",
       "      <td>0</td>\n",
       "      <td>41</td>\n",
       "      <td>83</td>\n",
       "      <td>11</td>\n",
       "      <td>0</td>\n",
       "      <td>0</td>\n",
       "      <td>0</td>\n",
       "      <td>0</td>\n",
       "      <td>0</td>\n",
       "    </tr>\n",
       "    <tr>\n",
       "      <th>1</th>\n",
       "      <td>2</td>\n",
       "      <td>2</td>\n",
       "      <td>1</td>\n",
       "      <td>2019</td>\n",
       "      <td>0</td>\n",
       "      <td>38</td>\n",
       "      <td>92</td>\n",
       "      <td>10</td>\n",
       "      <td>1</td>\n",
       "      <td>0</td>\n",
       "      <td>0</td>\n",
       "      <td>0</td>\n",
       "      <td>0</td>\n",
       "    </tr>\n",
       "    <tr>\n",
       "      <th>2</th>\n",
       "      <td>3</td>\n",
       "      <td>3</td>\n",
       "      <td>1</td>\n",
       "      <td>2019</td>\n",
       "      <td>0</td>\n",
       "      <td>40</td>\n",
       "      <td>85</td>\n",
       "      <td>7</td>\n",
       "      <td>1</td>\n",
       "      <td>0</td>\n",
       "      <td>0</td>\n",
       "      <td>0</td>\n",
       "      <td>0</td>\n",
       "    </tr>\n",
       "    <tr>\n",
       "      <th>3</th>\n",
       "      <td>4</td>\n",
       "      <td>4</td>\n",
       "      <td>1</td>\n",
       "      <td>2019</td>\n",
       "      <td>0</td>\n",
       "      <td>46</td>\n",
       "      <td>66</td>\n",
       "      <td>3</td>\n",
       "      <td>1</td>\n",
       "      <td>0</td>\n",
       "      <td>0</td>\n",
       "      <td>0</td>\n",
       "      <td>0</td>\n",
       "    </tr>\n",
       "    <tr>\n",
       "      <th>4</th>\n",
       "      <td>5</td>\n",
       "      <td>5</td>\n",
       "      <td>1</td>\n",
       "      <td>2019</td>\n",
       "      <td>0</td>\n",
       "      <td>49</td>\n",
       "      <td>66</td>\n",
       "      <td>4</td>\n",
       "      <td>0</td>\n",
       "      <td>0</td>\n",
       "      <td>0</td>\n",
       "      <td>0</td>\n",
       "      <td>0</td>\n",
       "    </tr>\n",
       "  </tbody>\n",
       "</table>\n",
       "</div>"
      ],
      "text/plain": [
       "   day  day_of_week  month  year  hour  atemp  ahum  awind  prec  \\\n",
       "0    1            1      1  2019     0     41    83     11     0   \n",
       "1    2            2      1  2019     0     38    92     10     1   \n",
       "2    3            3      1  2019     0     40    85      7     1   \n",
       "3    4            4      1  2019     0     46    66      3     1   \n",
       "4    5            5      1  2019     0     49    66      4     0   \n",
       "\n",
       "   vehicle_encoded  hour_encoded  month_encoded  count_encoded  \n",
       "0                0             0              0              0  \n",
       "1                0             0              0              0  \n",
       "2                0             0              0              0  \n",
       "3                0             0              0              0  \n",
       "4                0             0              0              0  "
      ]
     },
     "execution_count": 46,
     "metadata": {},
     "output_type": "execute_result"
    }
   ],
   "source": [
    "target = data['count_encoded']\n",
    "new_data = data.drop('count_encoded', axis=1)\n",
    "data.head()"
   ]
  },
  {
   "cell_type": "code",
   "execution_count": 47,
   "metadata": {},
   "outputs": [],
   "source": [
    "from sklearn.model_selection import train_test_split\n",
    "X_train, X_test, y_train, y_test = train_test_split(new_data, target, random_state=42)"
   ]
  },
  {
   "cell_type": "code",
   "execution_count": 48,
   "metadata": {},
   "outputs": [
    {
     "data": {
      "text/plain": [
       "0.8958837772397095"
      ]
     },
     "execution_count": 48,
     "metadata": {},
     "output_type": "execute_result"
    }
   ],
   "source": [
    "clf2 = tree.DecisionTreeClassifier()\n",
    "clf2 = clf.fit(X_train, y_train)\n",
    "clf2.score(X_test, y_test)"
   ]
  },
  {
   "cell_type": "code",
   "execution_count": 49,
   "metadata": {},
   "outputs": [],
   "source": [
    "# save the better performing model as a pickle file\n",
    "import pickle\n",
    "pickle.dump(clf2,open(\"model.pkl\",\"wb\"))"
   ]
  },
  {
   "cell_type": "code",
   "execution_count": 50,
   "metadata": {},
   "outputs": [],
   "source": [
    "# run a sample data set\n",
    "to_predict_list=[1,1,1,2019,0,51,83,11,0,0,0,0]\n",
    "to_predict = np.array(to_predict_list).reshape(1,12)"
   ]
  },
  {
   "cell_type": "code",
   "execution_count": 51,
   "metadata": {},
   "outputs": [],
   "source": [
    "# load in a pickle \n",
    "loaded_model = pickle.load(open(\"model.pkl\",\"rb\"))"
   ]
  },
  {
   "cell_type": "code",
   "execution_count": 52,
   "metadata": {},
   "outputs": [
    {
     "name": "stdout",
     "output_type": "stream",
     "text": [
      "[0]\n"
     ]
    }
   ],
   "source": [
    "# print the predicted result\n",
    "result = loaded_model.predict(to_predict)\n",
    "print(result)"
   ]
  },
  {
   "cell_type": "code",
   "execution_count": 53,
   "metadata": {},
   "outputs": [],
   "source": [
    "# see if linear regressions are also improved with this encoding\n",
    "# first, bin the count data\n",
    "all_vehicles['count_encoded'] = pd.cut(all_vehicles['count'], bins=11, labels=[0,1,2,3,4,5,\n",
    "                                                                       6,7,8,9,10])\n",
    "all_vehicles['count_encoded'] = all_vehicles['count_encoded'].astype('int')"
   ]
  },
  {
   "cell_type": "code",
   "execution_count": 54,
   "metadata": {},
   "outputs": [
    {
     "name": "stdout",
     "output_type": "stream",
     "text": [
      "(23128, 8) (23128, 1)\n"
     ]
    }
   ],
   "source": [
    "# evaluate the linear regression\n",
    "X = all_vehicles[['hour_encoded', 'month_encoded','atemp','vehicle_encoded','day_of_week','awind','ahum','mintemp']]\n",
    "y = all_vehicles['count_encoded'].values.reshape(-1,1)\n",
    "print(X.shape, y.shape)"
   ]
  },
  {
   "cell_type": "code",
   "execution_count": 55,
   "metadata": {},
   "outputs": [],
   "source": [
    "from sklearn.model_selection import train_test_split\n",
    "\n",
    "X_train, X_test, y_train, y_test = train_test_split(X, y, random_state=42)"
   ]
  },
  {
   "cell_type": "code",
   "execution_count": 56,
   "metadata": {},
   "outputs": [],
   "source": [
    "from sklearn.model_selection import train_test_split\n",
    "\n",
    "X_train, X_test, y_train, y_test = train_test_split(X, y, random_state=42)"
   ]
  },
  {
   "cell_type": "code",
   "execution_count": 57,
   "metadata": {},
   "outputs": [],
   "source": [
    "from sklearn.linear_model import LinearRegression\n",
    "model = LinearRegression()"
   ]
  },
  {
   "cell_type": "code",
   "execution_count": 58,
   "metadata": {},
   "outputs": [
    {
     "name": "stdout",
     "output_type": "stream",
     "text": [
      "Training Score: 0.2681546402370316\n",
      "Testing Score: 0.28563332464341895\n"
     ]
    }
   ],
   "source": [
    "model.fit(X_train, y_train)\n",
    "training_score = model.score(X_train, y_train)\n",
    "testing_score = model.score(X_test, y_test)\n",
    "\n",
    "print(f\"Training Score: {training_score}\")\n",
    "print(f\"Testing Score: {testing_score}\")"
   ]
  },
  {
   "cell_type": "code",
   "execution_count": 59,
   "metadata": {},
   "outputs": [],
   "source": [
    "# save modified vehicle data to ETL folder for tranformation to postgres\n",
    "all_vehicles.to_csv(\"etl/all_vehicles_ml.csv\")"
   ]
  },
  {
   "cell_type": "code",
   "execution_count": null,
   "metadata": {},
   "outputs": [],
   "source": []
  }
 ],
 "metadata": {
  "kernelspec": {
   "display_name": "Python 3",
   "language": "python",
   "name": "python3"
  },
  "language_info": {
   "codemirror_mode": {
    "name": "ipython",
    "version": 3
   },
   "file_extension": ".py",
   "mimetype": "text/x-python",
   "name": "python",
   "nbconvert_exporter": "python",
   "pygments_lexer": "ipython3",
   "version": "3.7.1"
  }
 },
 "nbformat": 4,
 "nbformat_minor": 2
}
