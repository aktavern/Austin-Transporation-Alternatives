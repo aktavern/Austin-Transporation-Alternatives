{
 "cells": [
  {
   "cell_type": "markdown",
   "metadata": {},
   "source": [
    "#  Introduction and Summary\n",
    "This notebook uses a variety of Machine Learning models on data about shared micromobility services in Austin, Texas. In this case, micromobility refers to both scooters and bicycles which can be rented and dropped off at dockless locations. The data can be found <a href=\"https://data.austintexas.gov/Transportation-and-Mobility/Shared-Micromobility-Vehicle-Trips/7d8e-dm7r\">here</a>.\n",
    "\n",
    "Initial analysis of the data shows:\n",
    "1. Usage can vary regardless of time, but tends to be highest in the afternoons, such as between 3pm - 5pm. \n",
    "2. Usage continues to vary regardless of month, but tends to be highest in March and August. This can be tied to SXSW in March and the beginning of the school year for UT Austin in August. \n",
    "3. Weather does not seem to impact usage of micromobility services. \n",
    "4. There's not a strong relationship between Trip Duration and Trip Distance. \n",
    "5. Typical linear regression models don't work well with this data, but a Decision Tree Classifier may be the best fit. "
   ]
  },
  {
   "cell_type": "markdown",
   "metadata": {},
   "source": [
    "# Load Libraries and Data \n",
    "We'll import other libraries as we use them throughout the notebook."
   ]
  },
  {
   "cell_type": "code",
   "execution_count": 1,
   "metadata": {},
   "outputs": [],
   "source": [
    "# Import Dependencies\n",
    "import pandas as pd\n",
    "import matplotlib.pyplot as plt\n",
    "import sklearn\n",
    "import numpy as np\n",
    "import statsmodels.api as sm\n",
    "import seaborn as sns"
   ]
  },
  {
   "cell_type": "code",
   "execution_count": 2,
   "metadata": {},
   "outputs": [],
   "source": [
    "# Import data, drop unnecessary columns, and update data types\n",
    "all_vehicles = pd.read_csv(\"data/all_summary.csv\")\n",
    "all_vehicles = all_vehicles.drop('Unnamed: 0', axis=1)"
   ]
  },
  {
   "cell_type": "code",
   "execution_count": 3,
   "metadata": {},
   "outputs": [],
   "source": [
    "alltrips = pd.read_csv(\"data/alltrips_cleaned.csv\")\n",
    "alltrips = alltrips.drop('Unnamed: 0',axis=1)"
   ]
  },
  {
   "cell_type": "code",
   "execution_count": 4,
   "metadata": {},
   "outputs": [
    {
     "data": {
      "text/html": [
       "<div>\n",
       "<style scoped>\n",
       "    .dataframe tbody tr th:only-of-type {\n",
       "        vertical-align: middle;\n",
       "    }\n",
       "\n",
       "    .dataframe tbody tr th {\n",
       "        vertical-align: top;\n",
       "    }\n",
       "\n",
       "    .dataframe thead th {\n",
       "        text-align: right;\n",
       "    }\n",
       "</style>\n",
       "<table border=\"1\" class=\"dataframe\">\n",
       "  <thead>\n",
       "    <tr style=\"text-align: right;\">\n",
       "      <th></th>\n",
       "      <th>Month</th>\n",
       "      <th>Hour</th>\n",
       "      <th>Year</th>\n",
       "      <th>Day</th>\n",
       "      <th>Count</th>\n",
       "      <th>date</th>\n",
       "      <th>maxtemp</th>\n",
       "      <th>atemp</th>\n",
       "      <th>mintemp</th>\n",
       "      <th>maxhum</th>\n",
       "      <th>ahum</th>\n",
       "      <th>minhum</th>\n",
       "      <th>maxwind</th>\n",
       "      <th>awind</th>\n",
       "      <th>minwind</th>\n",
       "      <th>prec</th>\n",
       "      <th>Day of week</th>\n",
       "      <th>Vehicle Type</th>\n",
       "      <th>Vehicle Encoded</th>\n",
       "    </tr>\n",
       "  </thead>\n",
       "  <tbody>\n",
       "    <tr>\n",
       "      <th>0</th>\n",
       "      <td>1</td>\n",
       "      <td>0</td>\n",
       "      <td>2019</td>\n",
       "      <td>1</td>\n",
       "      <td>342</td>\n",
       "      <td>2019-01-01</td>\n",
       "      <td>46.0</td>\n",
       "      <td>41.5</td>\n",
       "      <td>36.0</td>\n",
       "      <td>97.0</td>\n",
       "      <td>83.5</td>\n",
       "      <td>76.0</td>\n",
       "      <td>21.0</td>\n",
       "      <td>11.2</td>\n",
       "      <td>0.0</td>\n",
       "      <td>0.0</td>\n",
       "      <td>1.0</td>\n",
       "      <td>scooter</td>\n",
       "      <td>0</td>\n",
       "    </tr>\n",
       "    <tr>\n",
       "      <th>1</th>\n",
       "      <td>1</td>\n",
       "      <td>0</td>\n",
       "      <td>2019</td>\n",
       "      <td>2</td>\n",
       "      <td>79</td>\n",
       "      <td>2019-01-02</td>\n",
       "      <td>41.0</td>\n",
       "      <td>38.3</td>\n",
       "      <td>37.0</td>\n",
       "      <td>97.0</td>\n",
       "      <td>92.2</td>\n",
       "      <td>79.0</td>\n",
       "      <td>15.0</td>\n",
       "      <td>10.8</td>\n",
       "      <td>8.0</td>\n",
       "      <td>1.0</td>\n",
       "      <td>2.0</td>\n",
       "      <td>scooter</td>\n",
       "      <td>0</td>\n",
       "    </tr>\n",
       "    <tr>\n",
       "      <th>2</th>\n",
       "      <td>1</td>\n",
       "      <td>0</td>\n",
       "      <td>2019</td>\n",
       "      <td>3</td>\n",
       "      <td>16</td>\n",
       "      <td>2019-01-03</td>\n",
       "      <td>52.0</td>\n",
       "      <td>40.5</td>\n",
       "      <td>31.0</td>\n",
       "      <td>97.0</td>\n",
       "      <td>85.4</td>\n",
       "      <td>53.0</td>\n",
       "      <td>13.0</td>\n",
       "      <td>7.5</td>\n",
       "      <td>0.0</td>\n",
       "      <td>1.0</td>\n",
       "      <td>3.0</td>\n",
       "      <td>scooter</td>\n",
       "      <td>0</td>\n",
       "    </tr>\n",
       "    <tr>\n",
       "      <th>3</th>\n",
       "      <td>1</td>\n",
       "      <td>0</td>\n",
       "      <td>2019</td>\n",
       "      <td>4</td>\n",
       "      <td>82</td>\n",
       "      <td>2019-01-04</td>\n",
       "      <td>67.0</td>\n",
       "      <td>46.0</td>\n",
       "      <td>30.0</td>\n",
       "      <td>96.0</td>\n",
       "      <td>66.7</td>\n",
       "      <td>31.0</td>\n",
       "      <td>10.0</td>\n",
       "      <td>3.8</td>\n",
       "      <td>0.0</td>\n",
       "      <td>1.0</td>\n",
       "      <td>4.0</td>\n",
       "      <td>scooter</td>\n",
       "      <td>0</td>\n",
       "    </tr>\n",
       "    <tr>\n",
       "      <th>4</th>\n",
       "      <td>1</td>\n",
       "      <td>0</td>\n",
       "      <td>2019</td>\n",
       "      <td>5</td>\n",
       "      <td>188</td>\n",
       "      <td>2019-01-05</td>\n",
       "      <td>73.0</td>\n",
       "      <td>49.1</td>\n",
       "      <td>32.0</td>\n",
       "      <td>93.0</td>\n",
       "      <td>66.4</td>\n",
       "      <td>24.0</td>\n",
       "      <td>13.0</td>\n",
       "      <td>4.3</td>\n",
       "      <td>0.0</td>\n",
       "      <td>0.0</td>\n",
       "      <td>5.0</td>\n",
       "      <td>scooter</td>\n",
       "      <td>0</td>\n",
       "    </tr>\n",
       "  </tbody>\n",
       "</table>\n",
       "</div>"
      ],
      "text/plain": [
       "   Month  Hour  Year  Day  Count        date  maxtemp  atemp  mintemp  maxhum  \\\n",
       "0      1     0  2019    1    342  2019-01-01     46.0   41.5     36.0    97.0   \n",
       "1      1     0  2019    2     79  2019-01-02     41.0   38.3     37.0    97.0   \n",
       "2      1     0  2019    3     16  2019-01-03     52.0   40.5     31.0    97.0   \n",
       "3      1     0  2019    4     82  2019-01-04     67.0   46.0     30.0    96.0   \n",
       "4      1     0  2019    5    188  2019-01-05     73.0   49.1     32.0    93.0   \n",
       "\n",
       "   ahum  minhum  maxwind  awind  minwind  prec  Day of week Vehicle Type  \\\n",
       "0  83.5    76.0     21.0   11.2      0.0   0.0          1.0      scooter   \n",
       "1  92.2    79.0     15.0   10.8      8.0   1.0          2.0      scooter   \n",
       "2  85.4    53.0     13.0    7.5      0.0   1.0          3.0      scooter   \n",
       "3  66.7    31.0     10.0    3.8      0.0   1.0          4.0      scooter   \n",
       "4  66.4    24.0     13.0    4.3      0.0   0.0          5.0      scooter   \n",
       "\n",
       "   Vehicle Encoded  \n",
       "0                0  \n",
       "1                0  \n",
       "2                0  \n",
       "3                0  \n",
       "4                0  "
      ]
     },
     "execution_count": 4,
     "metadata": {},
     "output_type": "execute_result"
    }
   ],
   "source": [
    "all_vehicles.head()"
   ]
  },
  {
   "cell_type": "code",
   "execution_count": 5,
   "metadata": {},
   "outputs": [
    {
     "data": {
      "text/html": [
       "<div>\n",
       "<style scoped>\n",
       "    .dataframe tbody tr th:only-of-type {\n",
       "        vertical-align: middle;\n",
       "    }\n",
       "\n",
       "    .dataframe tbody tr th {\n",
       "        vertical-align: top;\n",
       "    }\n",
       "\n",
       "    .dataframe thead th {\n",
       "        text-align: right;\n",
       "    }\n",
       "</style>\n",
       "<table border=\"1\" class=\"dataframe\">\n",
       "  <thead>\n",
       "    <tr style=\"text-align: right;\">\n",
       "      <th></th>\n",
       "      <th>ID</th>\n",
       "      <th>Device ID</th>\n",
       "      <th>Vehicle Type</th>\n",
       "      <th>Trip Duration</th>\n",
       "      <th>Trip Distance</th>\n",
       "      <th>Start Time</th>\n",
       "      <th>End Time</th>\n",
       "      <th>Month</th>\n",
       "      <th>Hour</th>\n",
       "      <th>Day of Week</th>\n",
       "      <th>Year</th>\n",
       "    </tr>\n",
       "  </thead>\n",
       "  <tbody>\n",
       "    <tr>\n",
       "      <th>0</th>\n",
       "      <td>1d4f5d89-c044-46cb-8674-80d37fa0371f</td>\n",
       "      <td>caa0325c-7c0b-4909-a573-d83126ecc953</td>\n",
       "      <td>scooter</td>\n",
       "      <td>570</td>\n",
       "      <td>826</td>\n",
       "      <td>04/29/2019 05:15:00 PM</td>\n",
       "      <td>04/29/2019 05:15:00 PM</td>\n",
       "      <td>4</td>\n",
       "      <td>17</td>\n",
       "      <td>1</td>\n",
       "      <td>2019</td>\n",
       "    </tr>\n",
       "    <tr>\n",
       "      <th>1</th>\n",
       "      <td>cd442fb9-058f-46a7-af90-b4adb56fd163</td>\n",
       "      <td>1653cf10-75f5-4934-a9d9-c8d43ade67a9</td>\n",
       "      <td>scooter</td>\n",
       "      <td>438</td>\n",
       "      <td>1815</td>\n",
       "      <td>04/29/2019 05:30:00 PM</td>\n",
       "      <td>04/29/2019 05:45:00 PM</td>\n",
       "      <td>4</td>\n",
       "      <td>17</td>\n",
       "      <td>1</td>\n",
       "      <td>2019</td>\n",
       "    </tr>\n",
       "    <tr>\n",
       "      <th>2</th>\n",
       "      <td>e1ac0e42-ab2d-4eac-b019-f085169c1d38</td>\n",
       "      <td>1d89f9e2-d01a-4736-b7d8-258cb9a2108c</td>\n",
       "      <td>scooter</td>\n",
       "      <td>391</td>\n",
       "      <td>1519</td>\n",
       "      <td>04/29/2019 05:30:00 PM</td>\n",
       "      <td>04/29/2019 05:30:00 PM</td>\n",
       "      <td>4</td>\n",
       "      <td>17</td>\n",
       "      <td>1</td>\n",
       "      <td>2019</td>\n",
       "    </tr>\n",
       "    <tr>\n",
       "      <th>3</th>\n",
       "      <td>1c8b3eab-6aed-4b69-8eca-6b5e0b70a45f</td>\n",
       "      <td>ab262134-2421-49b7-a97f-fadde23e71db</td>\n",
       "      <td>scooter</td>\n",
       "      <td>570</td>\n",
       "      <td>1843</td>\n",
       "      <td>04/29/2019 05:30:00 PM</td>\n",
       "      <td>04/29/2019 05:45:00 PM</td>\n",
       "      <td>4</td>\n",
       "      <td>17</td>\n",
       "      <td>1</td>\n",
       "      <td>2019</td>\n",
       "    </tr>\n",
       "    <tr>\n",
       "      <th>4</th>\n",
       "      <td>f9174176-9d16-431d-af21-ebcab226da31</td>\n",
       "      <td>73e8b0bf-3aae-4f80-8683-c5d7c3b3989a</td>\n",
       "      <td>scooter</td>\n",
       "      <td>668</td>\n",
       "      <td>2829</td>\n",
       "      <td>04/29/2019 05:15:00 PM</td>\n",
       "      <td>04/29/2019 05:30:00 PM</td>\n",
       "      <td>4</td>\n",
       "      <td>17</td>\n",
       "      <td>1</td>\n",
       "      <td>2019</td>\n",
       "    </tr>\n",
       "  </tbody>\n",
       "</table>\n",
       "</div>"
      ],
      "text/plain": [
       "                                     ID                             Device ID  \\\n",
       "0  1d4f5d89-c044-46cb-8674-80d37fa0371f  caa0325c-7c0b-4909-a573-d83126ecc953   \n",
       "1  cd442fb9-058f-46a7-af90-b4adb56fd163  1653cf10-75f5-4934-a9d9-c8d43ade67a9   \n",
       "2  e1ac0e42-ab2d-4eac-b019-f085169c1d38  1d89f9e2-d01a-4736-b7d8-258cb9a2108c   \n",
       "3  1c8b3eab-6aed-4b69-8eca-6b5e0b70a45f  ab262134-2421-49b7-a97f-fadde23e71db   \n",
       "4  f9174176-9d16-431d-af21-ebcab226da31  73e8b0bf-3aae-4f80-8683-c5d7c3b3989a   \n",
       "\n",
       "  Vehicle Type  Trip Duration  Trip Distance              Start Time  \\\n",
       "0      scooter            570            826  04/29/2019 05:15:00 PM   \n",
       "1      scooter            438           1815  04/29/2019 05:30:00 PM   \n",
       "2      scooter            391           1519  04/29/2019 05:30:00 PM   \n",
       "3      scooter            570           1843  04/29/2019 05:30:00 PM   \n",
       "4      scooter            668           2829  04/29/2019 05:15:00 PM   \n",
       "\n",
       "                 End Time  Month  Hour  Day of Week  Year  \n",
       "0  04/29/2019 05:15:00 PM      4    17            1  2019  \n",
       "1  04/29/2019 05:45:00 PM      4    17            1  2019  \n",
       "2  04/29/2019 05:30:00 PM      4    17            1  2019  \n",
       "3  04/29/2019 05:45:00 PM      4    17            1  2019  \n",
       "4  04/29/2019 05:30:00 PM      4    17            1  2019  "
      ]
     },
     "execution_count": 5,
     "metadata": {},
     "output_type": "execute_result"
    }
   ],
   "source": [
    "alltrips.head()"
   ]
  },
  {
   "cell_type": "markdown",
   "metadata": {},
   "source": [
    "# Exploratory Data Analysis\n",
    "\n",
    "<b>Analysis</b>\n",
    "1. Demand can be higher or lower regardless of hour. For example, hour 15 has points at both ~3000 and 0. Therefore, we should expect demand by hour to be highly variable. \n",
    "2. Usage can be highest in the months of March and August. This ties to SXSW and the beginning of the school year for UT Austin, where many bikes and scooters are located. \n",
    "3. Usage doesn't seem to be impacted by average temperate, humidity, wind, or precipitation.\n",
    "4. Trip distance and duration don't seem to have a meaningful relationship. Distance and duration can vary. "
   ]
  },
  {
   "cell_type": "code",
   "execution_count": 6,
   "metadata": {},
   "outputs": [],
   "source": [
    "# Make sure data is cleaned up before plotting\n",
    "all_vehicles = all_vehicles.dropna()"
   ]
  },
  {
   "cell_type": "code",
   "execution_count": 7,
   "metadata": {},
   "outputs": [],
   "source": [
    "alltrips['Trip Duration'] = alltrips['Trip Duration'].astype('int')"
   ]
  },
  {
   "cell_type": "code",
   "execution_count": 8,
   "metadata": {},
   "outputs": [],
   "source": [
    "alltrips = alltrips[alltrips['Trip Duration'] > 0]"
   ]
  },
  {
   "cell_type": "code",
   "execution_count": 9,
   "metadata": {},
   "outputs": [],
   "source": [
    "all_vehicles['maxtemp'] = all_vehicles['maxtemp'].astype('int')\n",
    "all_vehicles['atempt'] = all_vehicles['atemp'].astype('int')\n",
    "all_vehicles['mintemp'] = all_vehicles['mintemp'].astype('int')\n",
    "all_vehicles['maxhum'] = all_vehicles['maxhum'].astype('int')\n",
    "all_vehicles['ahum'] = all_vehicles['ahum'].astype('int')\n",
    "all_vehicles['minhum'] = all_vehicles['minhum'].astype('int')\n",
    "all_vehicles['maxwind'] = all_vehicles['maxwind'].astype('int')\n",
    "all_vehicles['awind'] = all_vehicles['awind'].astype('int')\n",
    "all_vehicles['minwind'] = all_vehicles['minwind'].astype('int')\n",
    "all_vehicles['prec'] = all_vehicles['prec'].astype('int')\n",
    "all_vehicles['Day of week'] = all_vehicles['Day of week'].astype('int')"
   ]
  },
  {
   "cell_type": "code",
   "execution_count": 10,
   "metadata": {},
   "outputs": [
    {
     "data": {
      "text/plain": [
       "<matplotlib.collections.PathCollection at 0x236c92fc4e0>"
      ]
     },
     "execution_count": 10,
     "metadata": {},
     "output_type": "execute_result"
    },
    {
     "data": {
      "image/png": "[encoded data removed]",
      "text/plain": [
       "<Figure size 432x288 with 1 Axes>"
      ]
     },
     "metadata": {
      "needs_background": "light"
     },
     "output_type": "display_data"
    }
   ],
   "source": [
    "# Plot count against hours, months, and select weather variables\n",
    "plt.scatter(all_vehicles['Hour'], all_vehicles['Count'])"
   ]
  },
  {
   "cell_type": "code",
   "execution_count": 11,
   "metadata": {},
   "outputs": [
    {
     "data": {
      "text/plain": [
       "<matplotlib.collections.PathCollection at 0x236c938f2e8>"
      ]
     },
     "execution_count": 11,
     "metadata": {},
     "output_type": "execute_result"
    },
    {
     "data": {
      "image/png": "[encoded data removed]",
      "text/plain": [
       "<Figure size 432x288 with 1 Axes>"
      ]
     },
     "metadata": {
      "needs_background": "light"
     },
     "output_type": "display_data"
    }
   ],
   "source": [
    "plt.scatter(all_vehicles['Month'], all_vehicles['Count'])"
   ]
  },
  {
   "cell_type": "code",
   "execution_count": 12,
   "metadata": {},
   "outputs": [
    {
     "data": {
      "text/plain": [
       "<matplotlib.collections.PathCollection at 0x236c93eb7f0>"
      ]
     },
     "execution_count": 12,
     "metadata": {},
     "output_type": "execute_result"
    },
    {
     "data": {
      "image/png": "[encoded data removed]",
      "text/plain": [
       "<Figure size 432x288 with 1 Axes>"
      ]
     },
     "metadata": {
      "needs_background": "light"
     },
     "output_type": "display_data"
    }
   ],
   "source": [
    "plt.scatter(all_vehicles['atemp'], all_vehicles['Count'])"
   ]
  },
  {
   "cell_type": "code",
   "execution_count": 13,
   "metadata": {},
   "outputs": [
    {
     "data": {
      "text/plain": [
       "<matplotlib.collections.PathCollection at 0x236c94543c8>"
      ]
     },
     "execution_count": 13,
     "metadata": {},
     "output_type": "execute_result"
    },
    {
     "data": {
      "image/png": "[encoded data removed]",
      "text/plain": [
       "<Figure size 432x288 with 1 Axes>"
      ]
     },
     "metadata": {
      "needs_background": "light"
     },
     "output_type": "display_data"
    }
   ],
   "source": [
    "plt.scatter(all_vehicles['ahum'], all_vehicles['Count'])"
   ]
  },
  {
   "cell_type": "code",
   "execution_count": 14,
   "metadata": {},
   "outputs": [
    {
     "data": {
      "text/plain": [
       "<matplotlib.collections.PathCollection at 0x236c9454710>"
      ]
     },
     "execution_count": 14,
     "metadata": {},
     "output_type": "execute_result"
    },
    {
     "data": {
      "image/png": "[encoded data removed]",
      "text/plain": [
       "<Figure size 432x288 with 1 Axes>"
      ]
     },
     "metadata": {
      "needs_background": "light"
     },
     "output_type": "display_data"
    }
   ],
   "source": [
    "plt.scatter(all_vehicles['awind'], all_vehicles['Count'])"
   ]
  },
  {
   "cell_type": "code",
   "execution_count": 15,
   "metadata": {},
   "outputs": [
    {
     "data": {
      "text/plain": [
       "<matplotlib.collections.PathCollection at 0x236c950f358>"
      ]
     },
     "execution_count": 15,
     "metadata": {},
     "output_type": "execute_result"
    },
    {
     "data": {
      "image/png": "[encoded data removed]",
      "text/plain": [
       "<Figure size 432x288 with 1 Axes>"
      ]
     },
     "metadata": {
      "needs_background": "light"
     },
     "output_type": "display_data"
    }
   ],
   "source": [
    "plt.scatter(all_vehicles['prec'], all_vehicles['Count'])"
   ]
  },
  {
   "cell_type": "code",
   "execution_count": 16,
   "metadata": {},
   "outputs": [
    {
     "data": {
      "text/plain": [
       "<matplotlib.collections.PathCollection at 0x236c9563fd0>"
      ]
     },
     "execution_count": 16,
     "metadata": {},
     "output_type": "execute_result"
    },
    {
     "data": {
      "image/png": "[encoded data removed]",
      "text/plain": [
       "<Figure size 432x288 with 1 Axes>"
      ]
     },
     "metadata": {
      "needs_background": "light"
     },
     "output_type": "display_data"
    }
   ],
   "source": [
    "# Plot distance versus duration \n",
    "plt.scatter(alltrips['Trip Distance'], alltrips['Trip Duration'])"
   ]
  },
  {
   "cell_type": "markdown",
   "metadata": {},
   "source": [
    "# Linear Regressions\n",
    "Now that the data is cleaned, we can try our first linear regression against the data to see which variables best predict the number of devices rented. \n",
    "\n",
    "Upon initial evaluation, the following variables seem to have a relationship with demand:\n",
    " * hour\n",
    " * average temperature \n",
    " * day of week\n",
    " * vehicle type (scooter vs bike)\n",
    " * month\n",
    " * average humidity \n",
    " \n",
    "However, the initial model doesn't work very well, with an adjusted R-squared of 0.549 and a testing score of 0.39. The plot also seems to indicate that there may not be a linear relationship at play with this data. "
   ]
  },
  {
   "cell_type": "code",
   "execution_count": 17,
   "metadata": {},
   "outputs": [],
   "source": [
    "# Use statsmodels to review regression results\n",
    "Y = all_vehicles['Count']\n",
    "X = all_vehicles[['Hour', 'atemp', 'Day of week','Vehicle Encoded','Month','ahum']]"
   ]
  },
  {
   "cell_type": "code",
   "execution_count": 18,
   "metadata": {},
   "outputs": [],
   "source": [
    "model = sm.OLS(Y,X)\n",
    "results = model.fit()"
   ]
  },
  {
   "cell_type": "code",
   "execution_count": 19,
   "metadata": {},
   "outputs": [
    {
     "data": {
      "text/html": [
       "<table class=\"simpletable\">\n",
       "<caption>OLS Regression Results</caption>\n",
       "<tr>\n",
       "  <th>Dep. Variable:</th>          <td>Count</td>      <th>  R-squared:         </th>  <td>   0.549</td>  \n",
       "</tr>\n",
       "<tr>\n",
       "  <th>Model:</th>                   <td>OLS</td>       <th>  Adj. R-squared:    </th>  <td>   0.549</td>  \n",
       "</tr>\n",
       "<tr>\n",
       "  <th>Method:</th>             <td>Least Squares</td>  <th>  F-statistic:       </th>  <td>   4685.</td>  \n",
       "</tr>\n",
       "<tr>\n",
       "  <th>Date:</th>             <td>Thu, 24 Oct 2019</td> <th>  Prob (F-statistic):</th>   <td>  0.00</td>   \n",
       "</tr>\n",
       "<tr>\n",
       "  <th>Time:</th>                 <td>20:55:52</td>     <th>  Log-Likelihood:    </th> <td>-1.7003e+05</td>\n",
       "</tr>\n",
       "<tr>\n",
       "  <th>No. Observations:</th>      <td> 23128</td>      <th>  AIC:               </th>  <td>3.401e+05</td> \n",
       "</tr>\n",
       "<tr>\n",
       "  <th>Df Residuals:</th>          <td> 23122</td>      <th>  BIC:               </th>  <td>3.401e+05</td> \n",
       "</tr>\n",
       "<tr>\n",
       "  <th>Df Model:</th>              <td>     6</td>      <th>                     </th>      <td> </td>     \n",
       "</tr>\n",
       "<tr>\n",
       "  <th>Covariance Type:</th>      <td>nonrobust</td>    <th>                     </th>      <td> </td>     \n",
       "</tr>\n",
       "</table>\n",
       "<table class=\"simpletable\">\n",
       "<tr>\n",
       "         <td></td>            <th>coef</th>     <th>std err</th>      <th>t</th>      <th>P>|t|</th>  <th>[0.025</th>    <th>0.975]</th>  \n",
       "</tr>\n",
       "<tr>\n",
       "  <th>Hour</th>            <td>   21.0684</td> <td>    0.354</td> <td>   59.479</td> <td> 0.000</td> <td>   20.374</td> <td>   21.763</td>\n",
       "</tr>\n",
       "<tr>\n",
       "  <th>atemp</th>           <td>    1.7262</td> <td>    0.148</td> <td>   11.669</td> <td> 0.000</td> <td>    1.436</td> <td>    2.016</td>\n",
       "</tr>\n",
       "<tr>\n",
       "  <th>Day of week</th>     <td>   25.9898</td> <td>    1.218</td> <td>   21.339</td> <td> 0.000</td> <td>   23.603</td> <td>   28.377</td>\n",
       "</tr>\n",
       "<tr>\n",
       "  <th>Vehicle Encoded</th> <td> -490.4116</td> <td>    4.958</td> <td>  -98.904</td> <td> 0.000</td> <td> -500.130</td> <td> -480.693</td>\n",
       "</tr>\n",
       "<tr>\n",
       "  <th>Month</th>           <td>   -3.8445</td> <td>    0.820</td> <td>   -4.691</td> <td> 0.000</td> <td>   -5.451</td> <td>   -2.238</td>\n",
       "</tr>\n",
       "<tr>\n",
       "  <th>ahum</th>            <td>    1.4351</td> <td>    0.148</td> <td>    9.683</td> <td> 0.000</td> <td>    1.145</td> <td>    1.726</td>\n",
       "</tr>\n",
       "</table>\n",
       "<table class=\"simpletable\">\n",
       "<tr>\n",
       "  <th>Omnibus:</th>       <td>14416.931</td> <th>  Durbin-Watson:     </th>  <td>   0.385</td> \n",
       "</tr>\n",
       "<tr>\n",
       "  <th>Prob(Omnibus):</th>  <td> 0.000</td>   <th>  Jarque-Bera (JB):  </th> <td>325452.080</td>\n",
       "</tr>\n",
       "<tr>\n",
       "  <th>Skew:</th>           <td> 2.610</td>   <th>  Prob(JB):          </th>  <td>    0.00</td> \n",
       "</tr>\n",
       "<tr>\n",
       "  <th>Kurtosis:</th>       <td>20.620</td>   <th>  Cond. No.          </th>  <td>    204.</td> \n",
       "</tr>\n",
       "</table><br/><br/>Warnings:<br/>[1] Standard Errors assume that the covariance matrix of the errors is correctly specified."
      ],
      "text/plain": [
       "<class 'statsmodels.iolib.summary.Summary'>\n",
       "\"\"\"\n",
       "                            OLS Regression Results                            \n",
       "==============================================================================\n",
       "Dep. Variable:                  Count   R-squared:                       0.549\n",
       "Model:                            OLS   Adj. R-squared:                  0.549\n",
       "Method:                 Least Squares   F-statistic:                     4685.\n",
       "Date:                Thu, 24 Oct 2019   Prob (F-statistic):               0.00\n",
       "Time:                        20:55:52   Log-Likelihood:            -1.7003e+05\n",
       "No. Observations:               23128   AIC:                         3.401e+05\n",
       "Df Residuals:                   23122   BIC:                         3.401e+05\n",
       "Df Model:                           6                                         \n",
       "Covariance Type:            nonrobust                                         \n",
       "===================================================================================\n",
       "                      coef    std err          t      P>|t|      [0.025      0.975]\n",
       "-----------------------------------------------------------------------------------\n",
       "Hour               21.0684      0.354     59.479      0.000      20.374      21.763\n",
       "atemp               1.7262      0.148     11.669      0.000       1.436       2.016\n",
       "Day of week        25.9898      1.218     21.339      0.000      23.603      28.377\n",
       "Vehicle Encoded  -490.4116      4.958    -98.904      0.000    -500.130    -480.693\n",
       "Month              -3.8445      0.820     -4.691      0.000      -5.451      -2.238\n",
       "ahum                1.4351      0.148      9.683      0.000       1.145       1.726\n",
       "==============================================================================\n",
       "Omnibus:                    14416.931   Durbin-Watson:                   0.385\n",
       "Prob(Omnibus):                  0.000   Jarque-Bera (JB):           325452.080\n",
       "Skew:                           2.610   Prob(JB):                         0.00\n",
       "Kurtosis:                      20.620   Cond. No.                         204.\n",
       "==============================================================================\n",
       "\n",
       "Warnings:\n",
       "[1] Standard Errors assume that the covariance matrix of the errors is correctly specified.\n",
       "\"\"\""
      ]
     },
     "execution_count": 19,
     "metadata": {},
     "output_type": "execute_result"
    }
   ],
   "source": [
    "results.summary()"
   ]
  },
  {
   "cell_type": "code",
   "execution_count": 20,
   "metadata": {},
   "outputs": [
    {
     "name": "stdout",
     "output_type": "stream",
     "text": [
      "(23128, 6) (23128, 1)\n"
     ]
    }
   ],
   "source": [
    "# Assign the data to X and y\n",
    "X = all_vehicles[['Hour', 'atemp', 'Day of week','Vehicle Encoded','Month','ahum']]\n",
    "y = all_vehicles['Count'].values.reshape(-1,1)\n",
    "print(X.shape, y.shape)"
   ]
  },
  {
   "cell_type": "code",
   "execution_count": 21,
   "metadata": {},
   "outputs": [],
   "source": [
    "# Use train_test_split to create training and testing data\n",
    "from sklearn.model_selection import train_test_split\n",
    "\n",
    "X_train, X_test, y_train, y_test = train_test_split(X, y, random_state=42)"
   ]
  },
  {
   "cell_type": "code",
   "execution_count": 22,
   "metadata": {},
   "outputs": [],
   "source": [
    "# Create the model using LinearRegression\n",
    "from sklearn.linear_model import LinearRegression\n",
    "model = LinearRegression()"
   ]
  },
  {
   "cell_type": "code",
   "execution_count": 23,
   "metadata": {},
   "outputs": [
    {
     "name": "stdout",
     "output_type": "stream",
     "text": [
      "Training Score: 0.36208403180290605\n",
      "Testing Score: 0.38539016530904957\n"
     ]
    }
   ],
   "source": [
    "# Fit the model to the training data and calculate the scores\n",
    "model.fit(X_train, y_train)\n",
    "training_score = model.score(X_train, y_train)\n",
    "testing_score = model.score(X_test, y_test)\n",
    "\n",
    "print(f\"Training Score: {training_score}\")\n",
    "print(f\"Testing Score: {testing_score}\")"
   ]
  },
  {
   "cell_type": "code",
   "execution_count": 24,
   "metadata": {},
   "outputs": [
    {
     "data": {
      "text/plain": [
       "Text(0.5, 1.0, 'Residual Plot')"
      ]
     },
     "execution_count": 24,
     "metadata": {},
     "output_type": "execute_result"
    },
    {
     "data": {
      "image/png": "[encoded data removed]",
      "text/plain": [
       "<Figure size 432x288 with 1 Axes>"
      ]
     },
     "metadata": {
      "needs_background": "light"
     },
     "output_type": "display_data"
    }
   ],
   "source": [
    "# Plot the Residuals for the Training and Testing data\n",
    "plt.scatter(model.predict(X_train), model.predict(X_train) - y_train, c=\"blue\", label=\"Training Data\")\n",
    "plt.scatter(model.predict(X_test), model.predict(X_test) - y_test , c=\"orange\", label=\"Testing Data\")\n",
    "plt.legend()\n",
    "plt.title(\"Residual Plot\")"
   ]
  },
  {
   "cell_type": "markdown",
   "metadata": {},
   "source": [
    "# Feature Engineering \n",
    "To improve our linear regression model, I have binned the hours and months. The hours are binned at ~4 hour intervals and the months are binned at 3 month intervals. \n",
    "\n",
    "With these grouped variables, we see that the other variables still have an impact, with the inclusion of min temperature. \n",
    "\n",
    "However, the model actually got worse. The adjusted r-squared value is 0.554 (versus 0.559) and the testing score is still 0.39. The residual plot continues to indicate that this relationship may not be linear. "
   ]
  },
  {
   "cell_type": "code",
   "execution_count": 25,
   "metadata": {},
   "outputs": [
    {
     "data": {
      "text/html": [
       "<div>\n",
       "<style scoped>\n",
       "    .dataframe tbody tr th:only-of-type {\n",
       "        vertical-align: middle;\n",
       "    }\n",
       "\n",
       "    .dataframe tbody tr th {\n",
       "        vertical-align: top;\n",
       "    }\n",
       "\n",
       "    .dataframe thead th {\n",
       "        text-align: right;\n",
       "    }\n",
       "</style>\n",
       "<table border=\"1\" class=\"dataframe\">\n",
       "  <thead>\n",
       "    <tr style=\"text-align: right;\">\n",
       "      <th></th>\n",
       "      <th>Month</th>\n",
       "      <th>Hour</th>\n",
       "      <th>Year</th>\n",
       "      <th>Day</th>\n",
       "      <th>Count</th>\n",
       "      <th>date</th>\n",
       "      <th>maxtemp</th>\n",
       "      <th>atemp</th>\n",
       "      <th>mintemp</th>\n",
       "      <th>maxhum</th>\n",
       "      <th>ahum</th>\n",
       "      <th>minhum</th>\n",
       "      <th>maxwind</th>\n",
       "      <th>awind</th>\n",
       "      <th>minwind</th>\n",
       "      <th>prec</th>\n",
       "      <th>Day of week</th>\n",
       "      <th>Vehicle Type</th>\n",
       "      <th>Vehicle Encoded</th>\n",
       "      <th>atempt</th>\n",
       "    </tr>\n",
       "  </thead>\n",
       "  <tbody>\n",
       "    <tr>\n",
       "      <th>0</th>\n",
       "      <td>1</td>\n",
       "      <td>0</td>\n",
       "      <td>2019</td>\n",
       "      <td>1</td>\n",
       "      <td>342</td>\n",
       "      <td>2019-01-01</td>\n",
       "      <td>46</td>\n",
       "      <td>41.5</td>\n",
       "      <td>36</td>\n",
       "      <td>97</td>\n",
       "      <td>83</td>\n",
       "      <td>76</td>\n",
       "      <td>21</td>\n",
       "      <td>11</td>\n",
       "      <td>0</td>\n",
       "      <td>0</td>\n",
       "      <td>1</td>\n",
       "      <td>scooter</td>\n",
       "      <td>0</td>\n",
       "      <td>41</td>\n",
       "    </tr>\n",
       "    <tr>\n",
       "      <th>1</th>\n",
       "      <td>1</td>\n",
       "      <td>0</td>\n",
       "      <td>2019</td>\n",
       "      <td>2</td>\n",
       "      <td>79</td>\n",
       "      <td>2019-01-02</td>\n",
       "      <td>41</td>\n",
       "      <td>38.3</td>\n",
       "      <td>37</td>\n",
       "      <td>97</td>\n",
       "      <td>92</td>\n",
       "      <td>79</td>\n",
       "      <td>15</td>\n",
       "      <td>10</td>\n",
       "      <td>8</td>\n",
       "      <td>1</td>\n",
       "      <td>2</td>\n",
       "      <td>scooter</td>\n",
       "      <td>0</td>\n",
       "      <td>38</td>\n",
       "    </tr>\n",
       "    <tr>\n",
       "      <th>2</th>\n",
       "      <td>1</td>\n",
       "      <td>0</td>\n",
       "      <td>2019</td>\n",
       "      <td>3</td>\n",
       "      <td>16</td>\n",
       "      <td>2019-01-03</td>\n",
       "      <td>52</td>\n",
       "      <td>40.5</td>\n",
       "      <td>31</td>\n",
       "      <td>97</td>\n",
       "      <td>85</td>\n",
       "      <td>53</td>\n",
       "      <td>13</td>\n",
       "      <td>7</td>\n",
       "      <td>0</td>\n",
       "      <td>1</td>\n",
       "      <td>3</td>\n",
       "      <td>scooter</td>\n",
       "      <td>0</td>\n",
       "      <td>40</td>\n",
       "    </tr>\n",
       "    <tr>\n",
       "      <th>3</th>\n",
       "      <td>1</td>\n",
       "      <td>0</td>\n",
       "      <td>2019</td>\n",
       "      <td>4</td>\n",
       "      <td>82</td>\n",
       "      <td>2019-01-04</td>\n",
       "      <td>67</td>\n",
       "      <td>46.0</td>\n",
       "      <td>30</td>\n",
       "      <td>96</td>\n",
       "      <td>66</td>\n",
       "      <td>31</td>\n",
       "      <td>10</td>\n",
       "      <td>3</td>\n",
       "      <td>0</td>\n",
       "      <td>1</td>\n",
       "      <td>4</td>\n",
       "      <td>scooter</td>\n",
       "      <td>0</td>\n",
       "      <td>46</td>\n",
       "    </tr>\n",
       "    <tr>\n",
       "      <th>4</th>\n",
       "      <td>1</td>\n",
       "      <td>0</td>\n",
       "      <td>2019</td>\n",
       "      <td>5</td>\n",
       "      <td>188</td>\n",
       "      <td>2019-01-05</td>\n",
       "      <td>73</td>\n",
       "      <td>49.1</td>\n",
       "      <td>32</td>\n",
       "      <td>93</td>\n",
       "      <td>66</td>\n",
       "      <td>24</td>\n",
       "      <td>13</td>\n",
       "      <td>4</td>\n",
       "      <td>0</td>\n",
       "      <td>0</td>\n",
       "      <td>5</td>\n",
       "      <td>scooter</td>\n",
       "      <td>0</td>\n",
       "      <td>49</td>\n",
       "    </tr>\n",
       "  </tbody>\n",
       "</table>\n",
       "</div>"
      ],
      "text/plain": [
       "   Month  Hour  Year  Day  Count        date  maxtemp  atemp  mintemp  maxhum  \\\n",
       "0      1     0  2019    1    342  2019-01-01       46   41.5       36      97   \n",
       "1      1     0  2019    2     79  2019-01-02       41   38.3       37      97   \n",
       "2      1     0  2019    3     16  2019-01-03       52   40.5       31      97   \n",
       "3      1     0  2019    4     82  2019-01-04       67   46.0       30      96   \n",
       "4      1     0  2019    5    188  2019-01-05       73   49.1       32      93   \n",
       "\n",
       "   ahum  minhum  maxwind  awind  minwind  prec  Day of week Vehicle Type  \\\n",
       "0    83      76       21     11        0     0            1      scooter   \n",
       "1    92      79       15     10        8     1            2      scooter   \n",
       "2    85      53       13      7        0     1            3      scooter   \n",
       "3    66      31       10      3        0     1            4      scooter   \n",
       "4    66      24       13      4        0     0            5      scooter   \n",
       "\n",
       "   Vehicle Encoded  atempt  \n",
       "0                0      41  \n",
       "1                0      38  \n",
       "2                0      40  \n",
       "3                0      46  \n",
       "4                0      49  "
      ]
     },
     "execution_count": 25,
     "metadata": {},
     "output_type": "execute_result"
    }
   ],
   "source": [
    "all_vehicles.head()"
   ]
  },
  {
   "cell_type": "code",
   "execution_count": 54,
   "metadata": {},
   "outputs": [],
   "source": [
    "# Segment Hour and Month data\n",
    "all_vehicles['Hour Encoded'] = pd.cut(all_vehicles['Hour'], bins=6, labels=[0,1,2,3,4,5])\n",
    "all_vehicles['Month Encoded'] = pd.cut(all_vehicles['Month'],bins=4, labels=[0,1,2,3])\n",
    "all_vehicles['Hour Encoded'] = all_vehicles['Hour Encoded'].astype('int')\n",
    "all_vehicles['Month Encoded'] = all_vehicles['Month Encoded'].astype('int')"
   ]
  },
  {
   "cell_type": "code",
   "execution_count": 55,
   "metadata": {},
   "outputs": [],
   "source": [
    "#reevaluate using statsmodels\n",
    "Y = all_vehicles['Count']"
   ]
  },
  {
   "cell_type": "code",
   "execution_count": 56,
   "metadata": {},
   "outputs": [],
   "source": [
    "X = all_vehicles[['Hour Encoded', 'Month Encoded','atemp','Vehicle Encoded','Day of week','awind','ahum','mintemp']]"
   ]
  },
  {
   "cell_type": "code",
   "execution_count": 57,
   "metadata": {},
   "outputs": [],
   "source": [
    "model = sm.OLS(Y,X)"
   ]
  },
  {
   "cell_type": "code",
   "execution_count": 58,
   "metadata": {},
   "outputs": [],
   "source": [
    "results = model.fit()"
   ]
  },
  {
   "cell_type": "code",
   "execution_count": 59,
   "metadata": {},
   "outputs": [
    {
     "data": {
      "text/html": [
       "<table class=\"simpletable\">\n",
       "<caption>OLS Regression Results</caption>\n",
       "<tr>\n",
       "  <th>Dep. Variable:</th>          <td>Count</td>      <th>  R-squared:         </th>  <td>   0.554</td>  \n",
       "</tr>\n",
       "<tr>\n",
       "  <th>Model:</th>                   <td>OLS</td>       <th>  Adj. R-squared:    </th>  <td>   0.554</td>  \n",
       "</tr>\n",
       "<tr>\n",
       "  <th>Method:</th>             <td>Least Squares</td>  <th>  F-statistic:       </th>  <td>   3589.</td>  \n",
       "</tr>\n",
       "<tr>\n",
       "  <th>Date:</th>             <td>Thu, 24 Oct 2019</td> <th>  Prob (F-statistic):</th>   <td>  0.00</td>   \n",
       "</tr>\n",
       "<tr>\n",
       "  <th>Time:</th>                 <td>21:00:49</td>     <th>  Log-Likelihood:    </th> <td>-1.6989e+05</td>\n",
       "</tr>\n",
       "<tr>\n",
       "  <th>No. Observations:</th>      <td> 23128</td>      <th>  AIC:               </th>  <td>3.398e+05</td> \n",
       "</tr>\n",
       "<tr>\n",
       "  <th>Df Residuals:</th>          <td> 23120</td>      <th>  BIC:               </th>  <td>3.399e+05</td> \n",
       "</tr>\n",
       "<tr>\n",
       "  <th>Df Model:</th>              <td>     8</td>      <th>                     </th>      <td> </td>     \n",
       "</tr>\n",
       "<tr>\n",
       "  <th>Covariance Type:</th>      <td>nonrobust</td>    <th>                     </th>      <td> </td>     \n",
       "</tr>\n",
       "</table>\n",
       "<table class=\"simpletable\">\n",
       "<tr>\n",
       "         <td></td>            <th>coef</th>     <th>std err</th>      <th>t</th>      <th>P>|t|</th>  <th>[0.025</th>    <th>0.975]</th>  \n",
       "</tr>\n",
       "<tr>\n",
       "  <th>Hour Encoded</th>    <td>   84.9306</td> <td>    1.443</td> <td>   58.839</td> <td> 0.000</td> <td>   82.101</td> <td>   87.760</td>\n",
       "</tr>\n",
       "<tr>\n",
       "  <th>Month Encoded</th>   <td>  -19.1523</td> <td>    2.498</td> <td>   -7.668</td> <td> 0.000</td> <td>  -24.048</td> <td>  -14.257</td>\n",
       "</tr>\n",
       "<tr>\n",
       "  <th>atemp</th>           <td>    5.3901</td> <td>    0.410</td> <td>   13.150</td> <td> 0.000</td> <td>    4.587</td> <td>    6.193</td>\n",
       "</tr>\n",
       "<tr>\n",
       "  <th>Vehicle Encoded</th> <td> -492.3025</td> <td>    4.937</td> <td>  -99.718</td> <td> 0.000</td> <td> -501.979</td> <td> -482.626</td>\n",
       "</tr>\n",
       "<tr>\n",
       "  <th>Day of week</th>     <td>   24.6246</td> <td>    1.219</td> <td>   20.195</td> <td> 0.000</td> <td>   22.235</td> <td>   27.015</td>\n",
       "</tr>\n",
       "<tr>\n",
       "  <th>awind</th>           <td>    4.5087</td> <td>    0.672</td> <td>    6.708</td> <td> 0.000</td> <td>    3.191</td> <td>    5.826</td>\n",
       "</tr>\n",
       "<tr>\n",
       "  <th>ahum</th>            <td>    1.4223</td> <td>    0.151</td> <td>    9.432</td> <td> 0.000</td> <td>    1.127</td> <td>    1.718</td>\n",
       "</tr>\n",
       "<tr>\n",
       "  <th>mintemp</th>         <td>   -4.1343</td> <td>    0.441</td> <td>   -9.370</td> <td> 0.000</td> <td>   -4.999</td> <td>   -3.269</td>\n",
       "</tr>\n",
       "</table>\n",
       "<table class=\"simpletable\">\n",
       "<tr>\n",
       "  <th>Omnibus:</th>       <td>14248.872</td> <th>  Durbin-Watson:     </th>  <td>   0.391</td> \n",
       "</tr>\n",
       "<tr>\n",
       "  <th>Prob(Omnibus):</th>  <td> 0.000</td>   <th>  Jarque-Bera (JB):  </th> <td>311940.376</td>\n",
       "</tr>\n",
       "<tr>\n",
       "  <th>Skew:</th>           <td> 2.577</td>   <th>  Prob(JB):          </th>  <td>    0.00</td> \n",
       "</tr>\n",
       "<tr>\n",
       "  <th>Kurtosis:</th>       <td>20.237</td>   <th>  Cond. No.          </th>  <td>    239.</td> \n",
       "</tr>\n",
       "</table><br/><br/>Warnings:<br/>[1] Standard Errors assume that the covariance matrix of the errors is correctly specified."
      ],
      "text/plain": [
       "<class 'statsmodels.iolib.summary.Summary'>\n",
       "\"\"\"\n",
       "                            OLS Regression Results                            \n",
       "==============================================================================\n",
       "Dep. Variable:                  Count   R-squared:                       0.554\n",
       "Model:                            OLS   Adj. R-squared:                  0.554\n",
       "Method:                 Least Squares   F-statistic:                     3589.\n",
       "Date:                Thu, 24 Oct 2019   Prob (F-statistic):               0.00\n",
       "Time:                        21:00:49   Log-Likelihood:            -1.6989e+05\n",
       "No. Observations:               23128   AIC:                         3.398e+05\n",
       "Df Residuals:                   23120   BIC:                         3.399e+05\n",
       "Df Model:                           8                                         \n",
       "Covariance Type:            nonrobust                                         \n",
       "===================================================================================\n",
       "                      coef    std err          t      P>|t|      [0.025      0.975]\n",
       "-----------------------------------------------------------------------------------\n",
       "Hour Encoded       84.9306      1.443     58.839      0.000      82.101      87.760\n",
       "Month Encoded     -19.1523      2.498     -7.668      0.000     -24.048     -14.257\n",
       "atemp               5.3901      0.410     13.150      0.000       4.587       6.193\n",
       "Vehicle Encoded  -492.3025      4.937    -99.718      0.000    -501.979    -482.626\n",
       "Day of week        24.6246      1.219     20.195      0.000      22.235      27.015\n",
       "awind               4.5087      0.672      6.708      0.000       3.191       5.826\n",
       "ahum                1.4223      0.151      9.432      0.000       1.127       1.718\n",
       "mintemp            -4.1343      0.441     -9.370      0.000      -4.999      -3.269\n",
       "==============================================================================\n",
       "Omnibus:                    14248.872   Durbin-Watson:                   0.391\n",
       "Prob(Omnibus):                  0.000   Jarque-Bera (JB):           311940.376\n",
       "Skew:                           2.577   Prob(JB):                         0.00\n",
       "Kurtosis:                      20.237   Cond. No.                         239.\n",
       "==============================================================================\n",
       "\n",
       "Warnings:\n",
       "[1] Standard Errors assume that the covariance matrix of the errors is correctly specified.\n",
       "\"\"\""
      ]
     },
     "execution_count": 59,
     "metadata": {},
     "output_type": "execute_result"
    }
   ],
   "source": [
    "# adjusted r-squared slightlight improved\n",
    "results.summary()"
   ]
  },
  {
   "cell_type": "code",
   "execution_count": 60,
   "metadata": {},
   "outputs": [
    {
     "name": "stdout",
     "output_type": "stream",
     "text": [
      "(23128, 8) (23128, 1)\n"
     ]
    }
   ],
   "source": [
    "# evaluate the linear regression\n",
    "X = all_vehicles[['Hour Encoded', 'Month Encoded','atemp','Vehicle Encoded','Day of week','awind','ahum','mintemp']]\n",
    "y = all_vehicles['Count'].values.reshape(-1,1)\n",
    "print(X.shape, y.shape)"
   ]
  },
  {
   "cell_type": "code",
   "execution_count": 61,
   "metadata": {},
   "outputs": [],
   "source": [
    "from sklearn.model_selection import train_test_split\n",
    "\n",
    "X_train, X_test, y_train, y_test = train_test_split(X, y, random_state=42)"
   ]
  },
  {
   "cell_type": "code",
   "execution_count": 62,
   "metadata": {},
   "outputs": [],
   "source": [
    "from sklearn.linear_model import LinearRegression\n",
    "model = LinearRegression()"
   ]
  },
  {
   "cell_type": "code",
   "execution_count": 63,
   "metadata": {},
   "outputs": [
    {
     "name": "stdout",
     "output_type": "stream",
     "text": [
      "Training Score: 0.3672331545731249\n",
      "Testing Score: 0.3888809944424513\n"
     ]
    }
   ],
   "source": [
    "model.fit(X_train, y_train)\n",
    "training_score = model.score(X_train, y_train)\n",
    "testing_score = model.score(X_test, y_test)\n",
    "\n",
    "### END SOLUTION \n",
    "\n",
    "print(f\"Training Score: {training_score}\")\n",
    "print(f\"Testing Score: {testing_score}\")"
   ]
  },
  {
   "cell_type": "code",
   "execution_count": 64,
   "metadata": {},
   "outputs": [
    {
     "data": {
      "text/plain": [
       "Text(0.5, 1.0, 'Residual Plot')"
      ]
     },
     "execution_count": 64,
     "metadata": {},
     "output_type": "execute_result"
    },
    {
     "data": {
      "image/png": "[encoded data removed]",
      "text/plain": [
       "<Figure size 432x288 with 1 Axes>"
      ]
     },
     "metadata": {
      "needs_background": "light"
     },
     "output_type": "display_data"
    }
   ],
   "source": [
    "plt.scatter(model.predict(X_train), model.predict(X_train) - y_train, c=\"blue\", label=\"Training Data\")\n",
    "plt.scatter(model.predict(X_test), model.predict(X_test) - y_test, c=\"orange\", label=\"Testing Data\")\n",
    "plt.legend()\n",
    "# plt.hlines(y=0, xmin=y.min(), xmax=y.max())\n",
    "plt.title(\"Residual Plot\")"
   ]
  },
  {
   "cell_type": "markdown",
   "metadata": {},
   "source": [
    "# Other Linear Models \n",
    "Perhaps the LinearRegression model is not the best fit for this data, but other linear models could work better. \n",
    "\n",
    "I tested:\n",
    "* Scaled Linear Regression\n",
    "* LASSO model\n",
    "* Ridge model\n",
    "* ElasticNet model\n",
    "\n",
    "Out of these, the scaled linear regression and Ridge model had the lowest R2 (~0.38)."
   ]
  },
  {
   "cell_type": "code",
   "execution_count": 261,
   "metadata": {},
   "outputs": [],
   "source": [
    "# Test 1: Scaled Linear Regression\n",
    "from sklearn.model_selection import train_test_split\n",
    "\n",
    "X_train, X_test, y_train, y_test = train_test_split(X, y, random_state=42)"
   ]
  },
  {
   "cell_type": "code",
   "execution_count": 262,
   "metadata": {},
   "outputs": [
    {
     "name": "stderr",
     "output_type": "stream",
     "text": [
      "C:\\Users\\Ashley\\Anaconda3\\lib\\site-packages\\sklearn\\preprocessing\\data.py:625: DataConversionWarning: Data with input dtype int32, int64, float64 were all converted to float64 by StandardScaler.\n",
      "  return self.partial_fit(X, y)\n",
      "C:\\Users\\Ashley\\Anaconda3\\lib\\site-packages\\sklearn\\utils\\validation.py:595: DataConversionWarning: Data with input dtype int64 was converted to float64 by StandardScaler.\n",
      "  warnings.warn(msg, DataConversionWarning)\n"
     ]
    }
   ],
   "source": [
    "from sklearn.preprocessing import StandardScaler\n",
    "\n",
    "# Create a StandardScater model and fit it to the training data\n",
    "\n",
    "X_scaler = StandardScaler().fit(X_train)\n",
    "y_scaler = StandardScaler().fit(y_train)"
   ]
  },
  {
   "cell_type": "code",
   "execution_count": 263,
   "metadata": {},
   "outputs": [
    {
     "name": "stderr",
     "output_type": "stream",
     "text": [
      "C:\\Users\\Ashley\\Anaconda3\\lib\\site-packages\\ipykernel_launcher.py:4: DataConversionWarning: Data with input dtype int32, int64, float64 were all converted to float64 by StandardScaler.\n",
      "  after removing the cwd from sys.path.\n",
      "C:\\Users\\Ashley\\Anaconda3\\lib\\site-packages\\ipykernel_launcher.py:5: DataConversionWarning: Data with input dtype int32, int64, float64 were all converted to float64 by StandardScaler.\n",
      "  \"\"\"\n",
      "C:\\Users\\Ashley\\Anaconda3\\lib\\site-packages\\sklearn\\utils\\validation.py:595: DataConversionWarning: Data with input dtype int64 was converted to float64 by StandardScaler.\n",
      "  warnings.warn(msg, DataConversionWarning)\n",
      "C:\\Users\\Ashley\\Anaconda3\\lib\\site-packages\\sklearn\\utils\\validation.py:595: DataConversionWarning: Data with input dtype int64 was converted to float64 by StandardScaler.\n",
      "  warnings.warn(msg, DataConversionWarning)\n"
     ]
    }
   ],
   "source": [
    "# Transform the training and testing data using the X_scaler and \n",
    "# y_scaler models\n",
    "\n",
    "X_train_scaled = X_scaler.transform(X_train)\n",
    "X_test_scaled = X_scaler.transform(X_test)\n",
    "y_train_scaled = y_scaler.transform(y_train)\n",
    "y_test_scaled = y_scaler.transform(y_test)"
   ]
  },
  {
   "cell_type": "code",
   "execution_count": 264,
   "metadata": {},
   "outputs": [
    {
     "data": {
      "text/plain": [
       "LinearRegression(copy_X=True, fit_intercept=True, n_jobs=None,\n",
       "         normalize=False)"
      ]
     },
     "execution_count": 264,
     "metadata": {},
     "output_type": "execute_result"
    }
   ],
   "source": [
    "# Create a LinearRegression model and fit it to the scaled training data\n",
    "\n",
    "from sklearn.linear_model import LinearRegression\n",
    "model = LinearRegression()\n",
    "model.fit(X_train_scaled, y_train_scaled)"
   ]
  },
  {
   "cell_type": "code",
   "execution_count": 265,
   "metadata": {},
   "outputs": [
    {
     "data": {
      "image/png": "[encoded data removed]",
      "text/plain": [
       "<Figure size 432x288 with 1 Axes>"
      ]
     },
     "metadata": {
      "needs_background": "light"
     },
     "output_type": "display_data"
    }
   ],
   "source": [
    "# Make predictions using the X_test_scaled data\n",
    "# Plot y_test_scaled vs y_test_scaled\n",
    "# Scatter plot y_test_scaled vs predictions\n",
    "\n",
    "predictions = model.predict(X_test_scaled)\n",
    "model.fit(X_train_scaled, y_train_scaled)\n",
    "plt.scatter(model.predict(X_train_scaled), model.predict(X_train_scaled) - y_train_scaled, c=\"blue\", label=\"Training Data\")\n",
    "plt.scatter(model.predict(X_test_scaled), model.predict(X_test_scaled) - y_test_scaled, c=\"orange\", label=\"Testing Data\")\n",
    "plt.legend()\n",
    "# plt.hlines(y=0, xmin=y_test_scaled.min(), xmax=y_test_scaled.max())\n",
    "plt.title(\"Residual Plot\")\n",
    "plt.show()"
   ]
  },
  {
   "cell_type": "code",
   "execution_count": 266,
   "metadata": {},
   "outputs": [
    {
     "name": "stdout",
     "output_type": "stream",
     "text": [
      "MSE: 0.5206350974595301, R2: 0.3888809944424513\n"
     ]
    }
   ],
   "source": [
    "# Used X_test_scaled, y_test_scaled, and model.predict(X_test_scaled)\n",
    "# to calculate MSE and R2\n",
    "\n",
    "from sklearn.metrics import mean_squared_error\n",
    "\n",
    "MSE = mean_squared_error(y_test_scaled, predictions)\n",
    "r2 = model.score(X_test_scaled, y_test_scaled)\n",
    "\n",
    "print(f\"MSE: {MSE}, R2: {r2}\")"
   ]
  },
  {
   "cell_type": "code",
   "execution_count": 267,
   "metadata": {},
   "outputs": [
    {
     "name": "stdout",
     "output_type": "stream",
     "text": [
      "MSE: 0.519908317512917, R2: 0.38973408529322295\n"
     ]
    }
   ],
   "source": [
    "# LASSO model\n",
    "from sklearn.linear_model import Lasso\n",
    "lasso = Lasso(alpha=.01).fit(X_train_scaled, y_train_scaled)\n",
    "\n",
    "predictions = lasso.predict(X_test_scaled)\n",
    "\n",
    "MSE = mean_squared_error(y_test_scaled, predictions)\n",
    "r2 = lasso.score(X_test_scaled, y_test_scaled)\n",
    "\n",
    "print(f\"MSE: {MSE}, R2: {r2}\")"
   ]
  },
  {
   "cell_type": "code",
   "execution_count": 268,
   "metadata": {},
   "outputs": [
    {
     "name": "stdout",
     "output_type": "stream",
     "text": [
      "MSE: 0.5206350777450751, R2: 0.38888101758318494\n"
     ]
    }
   ],
   "source": [
    "# Ridge model\n",
    "from sklearn.linear_model import Ridge\n",
    "\n",
    "ridge = Ridge(alpha=.01).fit(X_train_scaled, y_train_scaled)\n",
    "\n",
    "predictions = ridge.predict(X_test_scaled)\n",
    "\n",
    "MSE = mean_squared_error(y_test_scaled, predictions)\n",
    "r2 = ridge.score(X_test_scaled, y_test_scaled)\n",
    "\n",
    "print(f\"MSE: {MSE}, R2: {r2}\")"
   ]
  },
  {
   "cell_type": "code",
   "execution_count": 269,
   "metadata": {},
   "outputs": [
    {
     "name": "stdout",
     "output_type": "stream",
     "text": [
      "MSE: 0.520046557903069, R2: 0.38957181937959207\n"
     ]
    }
   ],
   "source": [
    "# ElasticNet model\n",
    "from sklearn.linear_model import ElasticNet\n",
    "\n",
    "elasticnet = ElasticNet(alpha=.01).fit(X_train_scaled, y_train_scaled)\n",
    "\n",
    "predictions = elasticnet.predict(X_test_scaled)\n",
    "\n",
    "MSE = mean_squared_error(y_test_scaled, predictions)\n",
    "r2 = elasticnet.score(X_test_scaled, y_test_scaled)\n",
    "\n",
    "print(f\"MSE: {MSE}, R2: {r2}\")"
   ]
  },
  {
   "cell_type": "markdown",
   "metadata": {},
   "source": [
    "# Decision Tree Classifier Test \n",
    "Decision tree builds classification or regression models.\n",
    "\n",
    "I tried both models, and it seems that classification is the best option for this data, with a score of .94."
   ]
  },
  {
   "cell_type": "code",
   "execution_count": 270,
   "metadata": {},
   "outputs": [],
   "source": [
    "from sklearn import tree\n",
    "target = all_vehicles['Count']\n",
    "data = all_vehicles.drop(['date','Vehicle Type'],axis=1)\n",
    "feature_names = data.columns"
   ]
  },
  {
   "cell_type": "code",
   "execution_count": 271,
   "metadata": {},
   "outputs": [],
   "source": [
    "from sklearn.model_selection import train_test_split\n",
    "X_train, X_test, y_train, y_test = train_test_split(data, target, random_state=42)"
   ]
  },
  {
   "cell_type": "code",
   "execution_count": 272,
   "metadata": {},
   "outputs": [
    {
     "data": {
      "text/plain": [
       "0.9368730543064684"
      ]
     },
     "execution_count": 272,
     "metadata": {},
     "output_type": "execute_result"
    }
   ],
   "source": [
    "clf = tree.DecisionTreeClassifier()\n",
    "clf = clf.fit(X_train, y_train)\n",
    "clf.score(X_test, y_test)"
   ]
  },
  {
   "cell_type": "code",
   "execution_count": 80,
   "metadata": {},
   "outputs": [],
   "source": [
    "X = all_vehicles[['Hour Encoded', 'Month Encoded','atemp','Vehicle Encoded','Day of week','awind','ahum','mintemp']]\n",
    "y = all_vehicles['Count'].values.reshape(-1,1)"
   ]
  },
  {
   "cell_type": "code",
   "execution_count": 95,
   "metadata": {},
   "outputs": [
    {
     "data": {
      "text/plain": [
       "DecisionTreeRegressor(criterion='mse', max_depth=10, max_features=None,\n",
       "           max_leaf_nodes=None, min_impurity_decrease=0.0,\n",
       "           min_impurity_split=None, min_samples_leaf=1,\n",
       "           min_samples_split=2, min_weight_fraction_leaf=0.0,\n",
       "           presort=False, random_state=None, splitter='best')"
      ]
     },
     "execution_count": 95,
     "metadata": {},
     "output_type": "execute_result"
    }
   ],
   "source": [
    "from sklearn.tree import DecisionTreeRegressor\n",
    "regr_1 = DecisionTreeRegressor(max_depth=5)\n",
    "regr_2 = DecisionTreeRegressor(max_depth=10)\n",
    "regr_1.fit(X,y)\n",
    "regr_2.fit(X,y)"
   ]
  },
  {
   "cell_type": "code",
   "execution_count": 96,
   "metadata": {},
   "outputs": [
    {
     "name": "stdout",
     "output_type": "stream",
     "text": [
      "0.5879698056612646\n",
      "0.756454508003736\n"
     ]
    }
   ],
   "source": [
    "print(regr_1.score(X_test,y_test))\n",
    "print(regr_2.score(X_test,y_test))"
   ]
  },
  {
   "cell_type": "code",
   "execution_count": null,
   "metadata": {},
   "outputs": [],
   "source": []
  }
 ],
 "metadata": {
  "kernelspec": {
   "display_name": "Python 3",
   "language": "python",
   "name": "python3"
  },
  "language_info": {
   "codemirror_mode": {
    "name": "ipython",
    "version": 3
   },
   "file_extension": ".py",
   "mimetype": "text/x-python",
   "name": "python",
   "nbconvert_exporter": "python",
   "pygments_lexer": "ipython3",
   "version": "3.7.1"
  }
 },
 "nbformat": 4,
 "nbformat_minor": 2
}
